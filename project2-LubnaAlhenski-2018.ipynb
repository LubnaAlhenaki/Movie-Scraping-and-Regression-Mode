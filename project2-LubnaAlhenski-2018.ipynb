{
 "cells": [
  {
   "cell_type": "code",
   "execution_count": 1,
   "metadata": {},
   "outputs": [],
   "source": [
    "import pandas as pd # data analysis\n",
    "import requests # get url\n",
    "from bs4 import BeautifulSoup # data scraping\n",
    "import matplotlib.pyplot as plt # Data visualisation \n",
    "import datetime # Check week number\n",
    "import numpy as np\n",
    "import datetime as dt #convert date into spesfic format\n",
    "import re\n",
    "import seaborn as sns\n",
    "from sklearn.metrics import mean_squared_error, r2_score\n",
    "from sklearn.linear_model import LinearRegression  \n",
    "import statsmodels.api as sm\n",
    "import statsmodels.formula.api as smf\n",
    "from sklearn.model_selection import train_test_split\n",
    "from sklearn.utils import shuffle\n",
    "import random\n",
    "from sklearn.linear_model import LinearRegression, Lasso, LassoCV, Ridge, RidgeCV\n",
    "from sklearn.metrics import r2_score\n",
    "from sklearn.model_selection import cross_val_score\n",
    "from sklearn.preprocessing import PolynomialFeatures, PowerTransformer\n",
    "from sklearn.model_selection import KFold\n",
    "from matplotlib import pyplot\n",
    "from scipy import stats\n",
    "from sklearn.preprocessing import power_transform\n",
    "from scipy.stats import boxcox\n",
    "from sklearn import linear_model"
   ]
  },
  {
   "cell_type": "code",
   "execution_count": null,
   "metadata": {},
   "outputs": [],
   "source": [
    "! pip install requests\n",
    "! pip install beautifulsoup4\n",
    "! pip install lxml"
   ]
  },
  {
   "cell_type": "code",
   "execution_count": null,
   "metadata": {},
   "outputs": [],
   "source": [
    "! pip install et_xmlfile"
   ]
  },
  {
   "cell_type": "markdown",
   "metadata": {},
   "source": [
    "### Scraping all links of the top 2018 movies in the Box Office Mojo"
   ]
  },
  {
   "cell_type": "code",
   "execution_count": null,
   "metadata": {},
   "outputs": [],
   "source": [
    "all_pages=[]\n",
    "all_url=[\"https://www.boxofficemojo.com/yearly/chart/?page=%s&view=releasedate&view2=domestic&yr=2018&p=.htm\"%(page_number) for page_number in range(1,10)]\n",
    "final_links=[]\n",
    "\n",
    "def all_links (url):\n",
    "    response = requests.get(url)\n",
    "    page=response.text\n",
    "    soup=BeautifulSoup(page,\"html.parser\")\n",
    "    table=soup.find(\"table\",attrs={\"cellpadding\":\"5\"})\n",
    "    rows=table.find_all(\"tr\")\n",
    "    if url == \"https://www.boxofficemojo.com/yearly/chart/?page=9&view=releasedate&view2=domestic&yr=2018&p=.htm\":\n",
    "        link_list=rows[2:80]\n",
    "    else:\n",
    "        link_list=rows[2:101]\n",
    "    links=[link.a.get(\"href\") for link in link_list ]\n",
    "    all_links=[\"https://www.boxofficemojo.com%s\"%(elem) for elem in links]\n",
    "    return all_links\n",
    "\n",
    "def remove_nested_list(nested_list):\n",
    "    for one_page in nested_list:\n",
    "        if type(one_page)==list:\n",
    "            remove_nested_list(one_page)\n",
    "        else:\n",
    "            final_links.append(one_page)\n",
    "\n",
    "for one_url in all_url:\n",
    "    results=all_links(one_url)\n",
    "    all_pages.append(results)\n",
    "print(len(all_pages))\n",
    "#print(all_links (\"https://www.boxofficemojo.com/yearly/chart/?page=2&view=releasedate&view2=domestic&yr=2019&p=.htm\"))\n",
    "remove_nested_list(all_pages)\n",
    "print(len(final_links))\n",
    "#print(final_links)\n",
    "\n",
    "final_links.remove(\"https://www.boxofficemojo.com/studio/chart/?studio=fathom.htm\")\n",
    "final_links.remove(\"https://www.boxofficemojo.com/movies/?id=crime+unishment18.htm\")\n",
    "print(len(final_links))\n"
   ]
  },
  {
   "cell_type": "markdown",
   "metadata": {},
   "source": [
    "### Collecting all the features of the top 2018 movies in the Box Office Mojo and building a dataframe"
   ]
  },
  {
   "cell_type": "code",
   "execution_count": null,
   "metadata": {
    "scrolled": true
   },
   "outputs": [],
   "source": [
    "title=[]\n",
    "domestic_total_gross=[]\n",
    "distributor=[]\n",
    "release_date=[]\n",
    "runtime=[]\n",
    "production_budget=[]\n",
    "MPAA_rating=[]\n",
    "genre=[]\n",
    "\n",
    "\n",
    "\n",
    "def convert_minuts(min):\n",
    "    \n",
    "    if min == \"N/A\":\n",
    "        return \"N/A\"\n",
    "    else: \n",
    "        numbers = re.findall(\"\\d+\", min)\n",
    "        h=int(numbers[0])\n",
    "        m=int(numbers[1])\n",
    "        total = m + (h*60)\n",
    "        return int(total)\n",
    "\n",
    "\n",
    "\n",
    "def movies (movies_url):\n",
    "\n",
    "    movie_url=movies_url\n",
    "    respon4 = requests.get(movie_url)\n",
    "    print(respon4.status_code)\n",
    "    print(i,movie_url)\n",
    "    all_text=respon4.text\n",
    "    soup4=BeautifulSoup(all_text,\"html.parser\")\n",
    "    table=soup4.find(\"table\",attrs={\"cellpadding\":\"4\"})\n",
    "    \n",
    "    \n",
    "    \n",
    "    title.append(soup4.find('title').text.split(\"(\")[0].strip())\n",
    "    domestic_total_gross.append(table.font.b.text.replace(\"$\",\"\").replace(\",\",\"\"))\n",
    "    distributor.append(soup4.find(text=\"Distributor: \").findNextSibling().text)\n",
    "    release_date.append(soup4.find(text=\"Release Date: \").findNext('a').text)\n",
    "    \n",
    "    \n",
    "    Alltime=soup4.find(text=\"Runtime: \").findNextSibling().text\n",
    "    time=convert_minuts(Alltime)\n",
    "    runtime.append(time)\n",
    "    \n",
    "    \n",
    "    #runtime.append(soup4.find(text=\"Runtime: \").findNextSibling().text)\n",
    "    \n",
    "    \n",
    "    \n",
    "    \n",
    "    \n",
    "    \n",
    "    production_budget.append(soup4.find(text=\"Production Budget: \").findNextSibling().text.replace(\"$\",\"\").replace(\"million\",\"000000\"))\n",
    "    MPAA_rating.append(soup4.find(text=\"MPAA Rating: \").findNextSibling().text)\n",
    "    genre.append(soup4.find(text=\"Genre: \").findNextSibling().text)\n",
    " \n",
    "\n",
    "for i,individual_url in enumerate(final_links):\n",
    "    print(i)\n",
    "    movies(individual_url)"
   ]
  },
  {
   "cell_type": "markdown",
   "metadata": {},
   "source": [
    "### Create CSV file to store all the information"
   ]
  },
  {
   "cell_type": "code",
   "execution_count": null,
   "metadata": {},
   "outputs": [],
   "source": [
    "df=pd.DataFrame({\"Title\":title,\"Domestic_Total_Gross\":domestic_total_gross,\n",
    "                 \"Distributor\":distributor,\n",
    "                \"Release_Date\":release_date,\n",
    "                \"Runtime\":runtime,\n",
    "                \"Production_Budget\":production_budget,\n",
    "                \"MPAA_Rating\":MPAA_rating,\n",
    "                \"Genre\":genre})"
   ]
  },
  {
   "cell_type": "code",
   "execution_count": null,
   "metadata": {},
   "outputs": [],
   "source": [
    "df.shape"
   ]
  },
  {
   "cell_type": "code",
   "execution_count": null,
   "metadata": {},
   "outputs": [],
   "source": [
    "df.to_csv(\"Movies_Screped_Data2018.csv\")"
   ]
  },
  {
   "cell_type": "markdown",
   "metadata": {},
   "source": [
    "### Data Cleaning"
   ]
  },
  {
   "cell_type": "code",
   "execution_count": 2,
   "metadata": {},
   "outputs": [],
   "source": [
    "df=pd.read_csv(\"Movies_Screped_Data2018.csv\", index_col=0)"
   ]
  },
  {
   "cell_type": "code",
   "execution_count": null,
   "metadata": {},
   "outputs": [],
   "source": []
  },
  {
   "cell_type": "code",
   "execution_count": 3,
   "metadata": {},
   "outputs": [
    {
     "data": {
      "text/plain": [
       "(868, 8)"
      ]
     },
     "execution_count": 3,
     "metadata": {},
     "output_type": "execute_result"
    }
   ],
   "source": [
    "df.shape"
   ]
  },
  {
   "cell_type": "code",
   "execution_count": 681,
   "metadata": {},
   "outputs": [
    {
     "data": {
      "text/plain": [
       "Index(['Actual', 'Predicted'], dtype='object')"
      ]
     },
     "execution_count": 681,
     "metadata": {},
     "output_type": "execute_result"
    }
   ],
   "source": [
    "df.columns"
   ]
  },
  {
   "cell_type": "code",
   "execution_count": 4,
   "metadata": {},
   "outputs": [
    {
     "data": {
      "text/html": [
       "<div>\n",
       "<style scoped>\n",
       "    .dataframe tbody tr th:only-of-type {\n",
       "        vertical-align: middle;\n",
       "    }\n",
       "\n",
       "    .dataframe tbody tr th {\n",
       "        vertical-align: top;\n",
       "    }\n",
       "\n",
       "    .dataframe thead th {\n",
       "        text-align: right;\n",
       "    }\n",
       "</style>\n",
       "<table border=\"1\" class=\"dataframe\">\n",
       "  <thead>\n",
       "    <tr style=\"text-align: right;\">\n",
       "      <th></th>\n",
       "      <th>Title</th>\n",
       "      <th>Domestic_Total_Gross</th>\n",
       "      <th>Distributor</th>\n",
       "      <th>Release_Date</th>\n",
       "      <th>Runtime</th>\n",
       "      <th>Production_Budget</th>\n",
       "      <th>MPAA_Rating</th>\n",
       "      <th>Genre</th>\n",
       "    </tr>\n",
       "  </thead>\n",
       "  <tbody>\n",
       "    <tr>\n",
       "      <td>0</td>\n",
       "      <td>Black Panther</td>\n",
       "      <td>700059566</td>\n",
       "      <td>Buena Vista</td>\n",
       "      <td>February 16, 2018</td>\n",
       "      <td>140.0</td>\n",
       "      <td>NaN</td>\n",
       "      <td>PG-13</td>\n",
       "      <td>Action / Adventure</td>\n",
       "    </tr>\n",
       "    <tr>\n",
       "      <td>1</td>\n",
       "      <td>Avengers: Infinity War</td>\n",
       "      <td>678815482</td>\n",
       "      <td>Buena Vista</td>\n",
       "      <td>April 27, 2018</td>\n",
       "      <td>156.0</td>\n",
       "      <td>NaN</td>\n",
       "      <td>PG-13</td>\n",
       "      <td>Action / Adventure</td>\n",
       "    </tr>\n",
       "    <tr>\n",
       "      <td>2</td>\n",
       "      <td>Incredibles 2</td>\n",
       "      <td>608581744</td>\n",
       "      <td>Buena Vista</td>\n",
       "      <td>June 15, 2018</td>\n",
       "      <td>118.0</td>\n",
       "      <td>NaN</td>\n",
       "      <td>PG</td>\n",
       "      <td>Animation</td>\n",
       "    </tr>\n",
       "    <tr>\n",
       "      <td>3</td>\n",
       "      <td>Jurassic World: Fallen Kingdom</td>\n",
       "      <td>417719760</td>\n",
       "      <td>Universal</td>\n",
       "      <td>June 22, 2018</td>\n",
       "      <td>128.0</td>\n",
       "      <td>170 000000</td>\n",
       "      <td>PG-13</td>\n",
       "      <td>Action / Adventure</td>\n",
       "    </tr>\n",
       "    <tr>\n",
       "      <td>4</td>\n",
       "      <td>Aquaman</td>\n",
       "      <td>335061807</td>\n",
       "      <td>Warner Bros.</td>\n",
       "      <td>December 21, 2018</td>\n",
       "      <td>139.0</td>\n",
       "      <td>NaN</td>\n",
       "      <td>PG-13</td>\n",
       "      <td>Action / Adventure</td>\n",
       "    </tr>\n",
       "  </tbody>\n",
       "</table>\n",
       "</div>"
      ],
      "text/plain": [
       "                            Title Domestic_Total_Gross   Distributor  \\\n",
       "0                   Black Panther            700059566   Buena Vista   \n",
       "1          Avengers: Infinity War            678815482   Buena Vista   \n",
       "2                   Incredibles 2            608581744   Buena Vista   \n",
       "3  Jurassic World: Fallen Kingdom            417719760     Universal   \n",
       "4                         Aquaman            335061807  Warner Bros.   \n",
       "\n",
       "        Release_Date  Runtime Production_Budget MPAA_Rating  \\\n",
       "0  February 16, 2018    140.0               NaN       PG-13   \n",
       "1     April 27, 2018    156.0               NaN       PG-13   \n",
       "2      June 15, 2018    118.0               NaN          PG   \n",
       "3      June 22, 2018    128.0        170 000000       PG-13   \n",
       "4  December 21, 2018    139.0               NaN       PG-13   \n",
       "\n",
       "                Genre  \n",
       "0  Action / Adventure  \n",
       "1  Action / Adventure  \n",
       "2           Animation  \n",
       "3  Action / Adventure  \n",
       "4  Action / Adventure  "
      ]
     },
     "execution_count": 4,
     "metadata": {},
     "output_type": "execute_result"
    }
   ],
   "source": [
    "df.head()"
   ]
  },
  {
   "cell_type": "code",
   "execution_count": 5,
   "metadata": {},
   "outputs": [
    {
     "data": {
      "text/html": [
       "<div>\n",
       "<style scoped>\n",
       "    .dataframe tbody tr th:only-of-type {\n",
       "        vertical-align: middle;\n",
       "    }\n",
       "\n",
       "    .dataframe tbody tr th {\n",
       "        vertical-align: top;\n",
       "    }\n",
       "\n",
       "    .dataframe thead th {\n",
       "        text-align: right;\n",
       "    }\n",
       "</style>\n",
       "<table border=\"1\" class=\"dataframe\">\n",
       "  <thead>\n",
       "    <tr style=\"text-align: right;\">\n",
       "      <th></th>\n",
       "      <th>Runtime</th>\n",
       "    </tr>\n",
       "  </thead>\n",
       "  <tbody>\n",
       "    <tr>\n",
       "      <td>count</td>\n",
       "      <td>865.000000</td>\n",
       "    </tr>\n",
       "    <tr>\n",
       "      <td>mean</td>\n",
       "      <td>109.993064</td>\n",
       "    </tr>\n",
       "    <tr>\n",
       "      <td>std</td>\n",
       "      <td>32.097471</td>\n",
       "    </tr>\n",
       "    <tr>\n",
       "      <td>min</td>\n",
       "      <td>14.000000</td>\n",
       "    </tr>\n",
       "    <tr>\n",
       "      <td>25%</td>\n",
       "      <td>93.000000</td>\n",
       "    </tr>\n",
       "    <tr>\n",
       "      <td>50%</td>\n",
       "      <td>103.000000</td>\n",
       "    </tr>\n",
       "    <tr>\n",
       "      <td>75%</td>\n",
       "      <td>118.000000</td>\n",
       "    </tr>\n",
       "    <tr>\n",
       "      <td>max</td>\n",
       "      <td>476.000000</td>\n",
       "    </tr>\n",
       "  </tbody>\n",
       "</table>\n",
       "</div>"
      ],
      "text/plain": [
       "          Runtime\n",
       "count  865.000000\n",
       "mean   109.993064\n",
       "std     32.097471\n",
       "min     14.000000\n",
       "25%     93.000000\n",
       "50%    103.000000\n",
       "75%    118.000000\n",
       "max    476.000000"
      ]
     },
     "execution_count": 5,
     "metadata": {},
     "output_type": "execute_result"
    }
   ],
   "source": [
    "df.describe()"
   ]
  },
  {
   "cell_type": "code",
   "execution_count": 6,
   "metadata": {},
   "outputs": [],
   "source": [
    "df['Release_Date']= pd.to_datetime(df['Release_Date']) "
   ]
  },
  {
   "cell_type": "code",
   "execution_count": 7,
   "metadata": {},
   "outputs": [
    {
     "ename": "TypeError",
     "evalue": "<lambda>() got an unexpected keyword argument 'errors'",
     "output_type": "error",
     "traceback": [
      "\u001b[0;31m---------------------------------------------------------------------------\u001b[0m",
      "\u001b[0;31mTypeError\u001b[0m                                 Traceback (most recent call last)",
      "\u001b[0;32m<ipython-input-7-675406f134e4>\u001b[0m in \u001b[0;36m<module>\u001b[0;34m\u001b[0m\n\u001b[0;32m----> 1\u001b[0;31m \u001b[0mdf\u001b[0m\u001b[0;34m[\u001b[0m\u001b[0;34m'Release_Date'\u001b[0m\u001b[0;34m]\u001b[0m \u001b[0;34m=\u001b[0m \u001b[0mdf\u001b[0m\u001b[0;34m[\u001b[0m\u001b[0;34m'Release_Date'\u001b[0m\u001b[0;34m]\u001b[0m\u001b[0;34m.\u001b[0m\u001b[0mapply\u001b[0m\u001b[0;34m(\u001b[0m\u001b[0;32mlambda\u001b[0m \u001b[0mx\u001b[0m\u001b[0;34m:\u001b[0m \u001b[0mdt\u001b[0m\u001b[0;34m.\u001b[0m\u001b[0mdatetime\u001b[0m\u001b[0;34m.\u001b[0m\u001b[0mstrptime\u001b[0m\u001b[0;34m(\u001b[0m\u001b[0mx\u001b[0m\u001b[0;34m,\u001b[0m\u001b[0;34m'%d%b%Y:%H:%M:%S.%f'\u001b[0m\u001b[0;34m)\u001b[0m\u001b[0;34m,\u001b[0m\u001b[0merrors\u001b[0m \u001b[0;34m=\u001b[0m \u001b[0;34m'coerce'\u001b[0m\u001b[0;34m)\u001b[0m\u001b[0;34m\u001b[0m\u001b[0;34m\u001b[0m\u001b[0m\n\u001b[0m",
      "\u001b[0;32m~/anaconda3/envs/metis/lib/python3.7/site-packages/pandas/core/series.py\u001b[0m in \u001b[0;36mapply\u001b[0;34m(self, func, convert_dtype, args, **kwds)\u001b[0m\n\u001b[1;32m   4040\u001b[0m             \u001b[0;32melse\u001b[0m\u001b[0;34m:\u001b[0m\u001b[0;34m\u001b[0m\u001b[0;34m\u001b[0m\u001b[0m\n\u001b[1;32m   4041\u001b[0m                 \u001b[0mvalues\u001b[0m \u001b[0;34m=\u001b[0m \u001b[0mself\u001b[0m\u001b[0;34m.\u001b[0m\u001b[0mastype\u001b[0m\u001b[0;34m(\u001b[0m\u001b[0mobject\u001b[0m\u001b[0;34m)\u001b[0m\u001b[0;34m.\u001b[0m\u001b[0mvalues\u001b[0m\u001b[0;34m\u001b[0m\u001b[0;34m\u001b[0m\u001b[0m\n\u001b[0;32m-> 4042\u001b[0;31m                 \u001b[0mmapped\u001b[0m \u001b[0;34m=\u001b[0m \u001b[0mlib\u001b[0m\u001b[0;34m.\u001b[0m\u001b[0mmap_infer\u001b[0m\u001b[0;34m(\u001b[0m\u001b[0mvalues\u001b[0m\u001b[0;34m,\u001b[0m \u001b[0mf\u001b[0m\u001b[0;34m,\u001b[0m \u001b[0mconvert\u001b[0m\u001b[0;34m=\u001b[0m\u001b[0mconvert_dtype\u001b[0m\u001b[0;34m)\u001b[0m\u001b[0;34m\u001b[0m\u001b[0;34m\u001b[0m\u001b[0m\n\u001b[0m\u001b[1;32m   4043\u001b[0m \u001b[0;34m\u001b[0m\u001b[0m\n\u001b[1;32m   4044\u001b[0m         \u001b[0;32mif\u001b[0m \u001b[0mlen\u001b[0m\u001b[0;34m(\u001b[0m\u001b[0mmapped\u001b[0m\u001b[0;34m)\u001b[0m \u001b[0;32mand\u001b[0m \u001b[0misinstance\u001b[0m\u001b[0;34m(\u001b[0m\u001b[0mmapped\u001b[0m\u001b[0;34m[\u001b[0m\u001b[0;36m0\u001b[0m\u001b[0;34m]\u001b[0m\u001b[0;34m,\u001b[0m \u001b[0mSeries\u001b[0m\u001b[0;34m)\u001b[0m\u001b[0;34m:\u001b[0m\u001b[0;34m\u001b[0m\u001b[0;34m\u001b[0m\u001b[0m\n",
      "\u001b[0;32mpandas/_libs/lib.pyx\u001b[0m in \u001b[0;36mpandas._libs.lib.map_infer\u001b[0;34m()\u001b[0m\n",
      "\u001b[0;32m~/anaconda3/envs/metis/lib/python3.7/site-packages/pandas/core/series.py\u001b[0m in \u001b[0;36mf\u001b[0;34m(x)\u001b[0m\n\u001b[1;32m   4026\u001b[0m \u001b[0;34m\u001b[0m\u001b[0m\n\u001b[1;32m   4027\u001b[0m             \u001b[0;32mdef\u001b[0m \u001b[0mf\u001b[0m\u001b[0;34m(\u001b[0m\u001b[0mx\u001b[0m\u001b[0;34m)\u001b[0m\u001b[0;34m:\u001b[0m\u001b[0;34m\u001b[0m\u001b[0;34m\u001b[0m\u001b[0m\n\u001b[0;32m-> 4028\u001b[0;31m                 \u001b[0;32mreturn\u001b[0m \u001b[0mfunc\u001b[0m\u001b[0;34m(\u001b[0m\u001b[0mx\u001b[0m\u001b[0;34m,\u001b[0m \u001b[0;34m*\u001b[0m\u001b[0margs\u001b[0m\u001b[0;34m,\u001b[0m \u001b[0;34m**\u001b[0m\u001b[0mkwds\u001b[0m\u001b[0;34m)\u001b[0m\u001b[0;34m\u001b[0m\u001b[0;34m\u001b[0m\u001b[0m\n\u001b[0m\u001b[1;32m   4029\u001b[0m \u001b[0;34m\u001b[0m\u001b[0m\n\u001b[1;32m   4030\u001b[0m         \u001b[0;32melse\u001b[0m\u001b[0;34m:\u001b[0m\u001b[0;34m\u001b[0m\u001b[0;34m\u001b[0m\u001b[0m\n",
      "\u001b[0;31mTypeError\u001b[0m: <lambda>() got an unexpected keyword argument 'errors'"
     ]
    }
   ],
   "source": [
    "df['Release_Date'] = df['Release_Date'].apply(lambda x: dt.datetime.strptime(x,'%d%b%Y:%H:%M:%S.%f'),errors = 'coerce')"
   ]
  },
  {
   "cell_type": "code",
   "execution_count": 12,
   "metadata": {},
   "outputs": [],
   "source": [
    "df[\"Month\"]=df.Release_Date.dt.strftime('%m')"
   ]
  },
  {
   "cell_type": "code",
   "execution_count": 13,
   "metadata": {},
   "outputs": [],
   "source": [
    "df[\"Day\"]=df.Release_Date.dt.strftime('%d')"
   ]
  },
  {
   "cell_type": "code",
   "execution_count": 14,
   "metadata": {},
   "outputs": [],
   "source": [
    "df['day_of_year'] = df['Release_Date'].dt.dayofyear"
   ]
  },
  {
   "cell_type": "code",
   "execution_count": 15,
   "metadata": {},
   "outputs": [
    {
     "data": {
      "text/html": [
       "<div>\n",
       "<style scoped>\n",
       "    .dataframe tbody tr th:only-of-type {\n",
       "        vertical-align: middle;\n",
       "    }\n",
       "\n",
       "    .dataframe tbody tr th {\n",
       "        vertical-align: top;\n",
       "    }\n",
       "\n",
       "    .dataframe thead th {\n",
       "        text-align: right;\n",
       "    }\n",
       "</style>\n",
       "<table border=\"1\" class=\"dataframe\">\n",
       "  <thead>\n",
       "    <tr style=\"text-align: right;\">\n",
       "      <th></th>\n",
       "      <th>Title</th>\n",
       "      <th>Domestic_Total_Gross</th>\n",
       "      <th>Distributor</th>\n",
       "      <th>Release_Date</th>\n",
       "      <th>Runtime</th>\n",
       "      <th>Production_Budget</th>\n",
       "      <th>MPAA_Rating</th>\n",
       "      <th>Genre</th>\n",
       "      <th>Day</th>\n",
       "      <th>day_of_year</th>\n",
       "      <th>Month</th>\n",
       "    </tr>\n",
       "  </thead>\n",
       "  <tbody>\n",
       "    <tr>\n",
       "      <td>0</td>\n",
       "      <td>Black Panther</td>\n",
       "      <td>700059566</td>\n",
       "      <td>Buena Vista</td>\n",
       "      <td>2018-02-16</td>\n",
       "      <td>140.0</td>\n",
       "      <td>NaN</td>\n",
       "      <td>PG-13</td>\n",
       "      <td>Action / Adventure</td>\n",
       "      <td>16</td>\n",
       "      <td>47</td>\n",
       "      <td>02</td>\n",
       "    </tr>\n",
       "    <tr>\n",
       "      <td>1</td>\n",
       "      <td>Avengers: Infinity War</td>\n",
       "      <td>678815482</td>\n",
       "      <td>Buena Vista</td>\n",
       "      <td>2018-04-27</td>\n",
       "      <td>156.0</td>\n",
       "      <td>NaN</td>\n",
       "      <td>PG-13</td>\n",
       "      <td>Action / Adventure</td>\n",
       "      <td>27</td>\n",
       "      <td>117</td>\n",
       "      <td>04</td>\n",
       "    </tr>\n",
       "    <tr>\n",
       "      <td>2</td>\n",
       "      <td>Incredibles 2</td>\n",
       "      <td>608581744</td>\n",
       "      <td>Buena Vista</td>\n",
       "      <td>2018-06-15</td>\n",
       "      <td>118.0</td>\n",
       "      <td>NaN</td>\n",
       "      <td>PG</td>\n",
       "      <td>Animation</td>\n",
       "      <td>15</td>\n",
       "      <td>166</td>\n",
       "      <td>06</td>\n",
       "    </tr>\n",
       "    <tr>\n",
       "      <td>3</td>\n",
       "      <td>Jurassic World: Fallen Kingdom</td>\n",
       "      <td>417719760</td>\n",
       "      <td>Universal</td>\n",
       "      <td>2018-06-22</td>\n",
       "      <td>128.0</td>\n",
       "      <td>170 000000</td>\n",
       "      <td>PG-13</td>\n",
       "      <td>Action / Adventure</td>\n",
       "      <td>22</td>\n",
       "      <td>173</td>\n",
       "      <td>06</td>\n",
       "    </tr>\n",
       "    <tr>\n",
       "      <td>4</td>\n",
       "      <td>Aquaman</td>\n",
       "      <td>335061807</td>\n",
       "      <td>Warner Bros.</td>\n",
       "      <td>2018-12-21</td>\n",
       "      <td>139.0</td>\n",
       "      <td>NaN</td>\n",
       "      <td>PG-13</td>\n",
       "      <td>Action / Adventure</td>\n",
       "      <td>21</td>\n",
       "      <td>355</td>\n",
       "      <td>12</td>\n",
       "    </tr>\n",
       "  </tbody>\n",
       "</table>\n",
       "</div>"
      ],
      "text/plain": [
       "                            Title Domestic_Total_Gross   Distributor  \\\n",
       "0                   Black Panther            700059566   Buena Vista   \n",
       "1          Avengers: Infinity War            678815482   Buena Vista   \n",
       "2                   Incredibles 2            608581744   Buena Vista   \n",
       "3  Jurassic World: Fallen Kingdom            417719760     Universal   \n",
       "4                         Aquaman            335061807  Warner Bros.   \n",
       "\n",
       "  Release_Date  Runtime Production_Budget MPAA_Rating               Genre Day  \\\n",
       "0   2018-02-16    140.0               NaN       PG-13  Action / Adventure  16   \n",
       "1   2018-04-27    156.0               NaN       PG-13  Action / Adventure  27   \n",
       "2   2018-06-15    118.0               NaN          PG           Animation  15   \n",
       "3   2018-06-22    128.0        170 000000       PG-13  Action / Adventure  22   \n",
       "4   2018-12-21    139.0               NaN       PG-13  Action / Adventure  21   \n",
       "\n",
       "   day_of_year Month  \n",
       "0           47    02  \n",
       "1          117    04  \n",
       "2          166    06  \n",
       "3          173    06  \n",
       "4          355    12  "
      ]
     },
     "execution_count": 15,
     "metadata": {},
     "output_type": "execute_result"
    }
   ],
   "source": [
    "df.head()"
   ]
  },
  {
   "cell_type": "code",
   "execution_count": 16,
   "metadata": {},
   "outputs": [
    {
     "data": {
      "text/plain": [
       "Title                           object\n",
       "Domestic_Total_Gross            object\n",
       "Distributor                     object\n",
       "Release_Date            datetime64[ns]\n",
       "Runtime                        float64\n",
       "Production_Budget               object\n",
       "MPAA_Rating                     object\n",
       "Genre                           object\n",
       "Day                             object\n",
       "day_of_year                      int64\n",
       "Month                           object\n",
       "dtype: object"
      ]
     },
     "execution_count": 16,
     "metadata": {},
     "output_type": "execute_result"
    }
   ],
   "source": [
    "df.dtypes"
   ]
  },
  {
   "cell_type": "code",
   "execution_count": 17,
   "metadata": {},
   "outputs": [
    {
     "data": {
      "text/plain": [
       "Index(['Title', 'Domestic_Total_Gross', 'Distributor', 'Release_Date',\n",
       "       'Runtime', 'Production_Budget', 'MPAA_Rating', 'Genre', 'Day',\n",
       "       'day_of_year', 'Month'],\n",
       "      dtype='object')"
      ]
     },
     "execution_count": 17,
     "metadata": {},
     "output_type": "execute_result"
    }
   ],
   "source": [
    "df.columns"
   ]
  },
  {
   "cell_type": "code",
   "execution_count": 18,
   "metadata": {
    "scrolled": false
   },
   "outputs": [],
   "source": [
    "#df.groupby('MPAA_Rating').nunique()\n"
   ]
  },
  {
   "cell_type": "code",
   "execution_count": 19,
   "metadata": {},
   "outputs": [
    {
     "data": {
      "text/plain": [
       "862"
      ]
     },
     "execution_count": 19,
     "metadata": {},
     "output_type": "execute_result"
    }
   ],
   "source": [
    "len(df.Title.unique())"
   ]
  },
  {
   "cell_type": "code",
   "execution_count": 20,
   "metadata": {},
   "outputs": [
    {
     "data": {
      "text/plain": [
       "Drama                 186\n",
       "Documentary           159\n",
       "Animation              68\n",
       "Comedy                 53\n",
       "Comedy / Drama         48\n",
       "Unknown                44\n",
       "Thriller               33\n",
       "Musical                24\n",
       "Action                 24\n",
       "Horror                 21\n",
       "Fantasy                18\n",
       "Action / Adventure     17\n",
       "Crime Drama            17\n",
       "Romantic Comedy        15\n",
       "Drama / Thriller       14\n",
       "Action Thriller         9\n",
       "Adventure               9\n",
       "Horror Thriller         8\n",
       "Action Comedy           8\n",
       "Sci-Fi                  7\n",
       "Action / Crime          7\n",
       "Crime Thriller          7\n",
       "Romance                 7\n",
       "Sci-Fi Action           6\n",
       "Action Drama            6\n",
       "Crime Comedy            5\n",
       "Comedy Thriller         4\n",
       "Horror Comedy           4\n",
       "Sci-Fi Thriller         4\n",
       "War Drama               4\n",
       "Foreign                 3\n",
       "Sports Drama            3\n",
       "Family                  3\n",
       "Music Drama             2\n",
       "Family Adventure        2\n",
       "Sports Action           2\n",
       "Action Horror           2\n",
       "Western                 2\n",
       "Crime                   1\n",
       "Period Drama            1\n",
       "Fantasy Comedy          1\n",
       "Sci-Fi Horror           1\n",
       "War                     1\n",
       "Historical Drama        1\n",
       "Concert                 1\n",
       "Sci-Fi Fantasy          1\n",
       "Sports                  1\n",
       "Sci-Fi Comedy           1\n",
       "Romantic Thriller       1\n",
       "Family Comedy           1\n",
       "Sci-Fi Adventure        1\n",
       "Name: Genre, dtype: int64"
      ]
     },
     "execution_count": 20,
     "metadata": {},
     "output_type": "execute_result"
    }
   ],
   "source": [
    "df.Genre.value_counts()"
   ]
  },
  {
   "cell_type": "code",
   "execution_count": 21,
   "metadata": {},
   "outputs": [],
   "source": [
    "#df.Distributor.value_counts()[:20]"
   ]
  },
  {
   "cell_type": "code",
   "execution_count": 22,
   "metadata": {},
   "outputs": [
    {
     "data": {
      "text/plain": [
       "7"
      ]
     },
     "execution_count": 22,
     "metadata": {},
     "output_type": "execute_result"
    }
   ],
   "source": [
    "len(df.MPAA_Rating.unique())"
   ]
  },
  {
   "cell_type": "code",
   "execution_count": 23,
   "metadata": {},
   "outputs": [],
   "source": [
    "#df[\"Production_Budget\"]=df[\"Production_Budget\"].replace(\"N/A\",np.nan)"
   ]
  },
  {
   "cell_type": "code",
   "execution_count": 24,
   "metadata": {},
   "outputs": [],
   "source": [
    "#df.Production_Budget.isnull().sum()"
   ]
  },
  {
   "cell_type": "code",
   "execution_count": 25,
   "metadata": {},
   "outputs": [],
   "source": [
    "df['Domestic_Total_Gross'] = df['Domestic_Total_Gross'].apply(lambda x: x.replace(\"(Estimate)\",\"\"))"
   ]
  },
  {
   "cell_type": "code",
   "execution_count": 26,
   "metadata": {},
   "outputs": [],
   "source": [
    "df = df.astype({\"Domestic_Total_Gross\": int})"
   ]
  },
  {
   "cell_type": "markdown",
   "metadata": {},
   "source": [
    "### Show highest movie depending on the Domestic_Total_Gross"
   ]
  },
  {
   "cell_type": "code",
   "execution_count": 27,
   "metadata": {
    "scrolled": true
   },
   "outputs": [
    {
     "data": {
      "text/html": [
       "<div>\n",
       "<style scoped>\n",
       "    .dataframe tbody tr th:only-of-type {\n",
       "        vertical-align: middle;\n",
       "    }\n",
       "\n",
       "    .dataframe tbody tr th {\n",
       "        vertical-align: top;\n",
       "    }\n",
       "\n",
       "    .dataframe thead th {\n",
       "        text-align: right;\n",
       "    }\n",
       "</style>\n",
       "<table border=\"1\" class=\"dataframe\">\n",
       "  <thead>\n",
       "    <tr style=\"text-align: right;\">\n",
       "      <th></th>\n",
       "      <th>Title</th>\n",
       "      <th>Domestic_Total_Gross</th>\n",
       "      <th>Distributor</th>\n",
       "      <th>Release_Date</th>\n",
       "      <th>Runtime</th>\n",
       "      <th>Production_Budget</th>\n",
       "      <th>MPAA_Rating</th>\n",
       "      <th>Genre</th>\n",
       "      <th>Day</th>\n",
       "      <th>day_of_year</th>\n",
       "      <th>Month</th>\n",
       "    </tr>\n",
       "  </thead>\n",
       "  <tbody>\n",
       "    <tr>\n",
       "      <td>0</td>\n",
       "      <td>Black Panther</td>\n",
       "      <td>700059566</td>\n",
       "      <td>Buena Vista</td>\n",
       "      <td>2018-02-16</td>\n",
       "      <td>140.0</td>\n",
       "      <td>NaN</td>\n",
       "      <td>PG-13</td>\n",
       "      <td>Action / Adventure</td>\n",
       "      <td>16</td>\n",
       "      <td>47</td>\n",
       "      <td>02</td>\n",
       "    </tr>\n",
       "    <tr>\n",
       "      <td>1</td>\n",
       "      <td>Avengers: Infinity War</td>\n",
       "      <td>678815482</td>\n",
       "      <td>Buena Vista</td>\n",
       "      <td>2018-04-27</td>\n",
       "      <td>156.0</td>\n",
       "      <td>NaN</td>\n",
       "      <td>PG-13</td>\n",
       "      <td>Action / Adventure</td>\n",
       "      <td>27</td>\n",
       "      <td>117</td>\n",
       "      <td>04</td>\n",
       "    </tr>\n",
       "    <tr>\n",
       "      <td>2</td>\n",
       "      <td>Incredibles 2</td>\n",
       "      <td>608581744</td>\n",
       "      <td>Buena Vista</td>\n",
       "      <td>2018-06-15</td>\n",
       "      <td>118.0</td>\n",
       "      <td>NaN</td>\n",
       "      <td>PG</td>\n",
       "      <td>Animation</td>\n",
       "      <td>15</td>\n",
       "      <td>166</td>\n",
       "      <td>06</td>\n",
       "    </tr>\n",
       "    <tr>\n",
       "      <td>3</td>\n",
       "      <td>Jurassic World: Fallen Kingdom</td>\n",
       "      <td>417719760</td>\n",
       "      <td>Universal</td>\n",
       "      <td>2018-06-22</td>\n",
       "      <td>128.0</td>\n",
       "      <td>170 000000</td>\n",
       "      <td>PG-13</td>\n",
       "      <td>Action / Adventure</td>\n",
       "      <td>22</td>\n",
       "      <td>173</td>\n",
       "      <td>06</td>\n",
       "    </tr>\n",
       "    <tr>\n",
       "      <td>4</td>\n",
       "      <td>Aquaman</td>\n",
       "      <td>335061807</td>\n",
       "      <td>Warner Bros.</td>\n",
       "      <td>2018-12-21</td>\n",
       "      <td>139.0</td>\n",
       "      <td>NaN</td>\n",
       "      <td>PG-13</td>\n",
       "      <td>Action / Adventure</td>\n",
       "      <td>21</td>\n",
       "      <td>355</td>\n",
       "      <td>12</td>\n",
       "    </tr>\n",
       "  </tbody>\n",
       "</table>\n",
       "</div>"
      ],
      "text/plain": [
       "                            Title  Domestic_Total_Gross   Distributor  \\\n",
       "0                   Black Panther             700059566   Buena Vista   \n",
       "1          Avengers: Infinity War             678815482   Buena Vista   \n",
       "2                   Incredibles 2             608581744   Buena Vista   \n",
       "3  Jurassic World: Fallen Kingdom             417719760     Universal   \n",
       "4                         Aquaman             335061807  Warner Bros.   \n",
       "\n",
       "  Release_Date  Runtime Production_Budget MPAA_Rating               Genre Day  \\\n",
       "0   2018-02-16    140.0               NaN       PG-13  Action / Adventure  16   \n",
       "1   2018-04-27    156.0               NaN       PG-13  Action / Adventure  27   \n",
       "2   2018-06-15    118.0               NaN          PG           Animation  15   \n",
       "3   2018-06-22    128.0        170 000000       PG-13  Action / Adventure  22   \n",
       "4   2018-12-21    139.0               NaN       PG-13  Action / Adventure  21   \n",
       "\n",
       "   day_of_year Month  \n",
       "0           47    02  \n",
       "1          117    04  \n",
       "2          166    06  \n",
       "3          173    06  \n",
       "4          355    12  "
      ]
     },
     "execution_count": 27,
     "metadata": {},
     "output_type": "execute_result"
    }
   ],
   "source": [
    "df.sort_values('Domestic_Total_Gross', ascending=False).head(5)"
   ]
  },
  {
   "cell_type": "markdown",
   "metadata": {},
   "source": [
    "### Dealing with catogrical data"
   ]
  },
  {
   "cell_type": "code",
   "execution_count": 28,
   "metadata": {},
   "outputs": [],
   "source": [
    "df1=df.copy()"
   ]
  },
  {
   "cell_type": "code",
   "execution_count": 29,
   "metadata": {},
   "outputs": [],
   "source": [
    "#we can package all of this into a function...\n",
    "\n",
    "def explode(frame,cat_col,sep=','):\n",
    "    '''inputs-\n",
    "    frame: input dataframe\n",
    "    cat_col: name of the category column\n",
    "    sep: is the seperator between the catgories\n",
    "    \n",
    "    output-\n",
    "    new dataframe with binary values for category columns\n",
    "    '''\n",
    "    df=frame.copy()\n",
    "    df[cat_col]=df[cat_col].apply(lambda x: x.replace(' ','').split(sep))\n",
    "    categories=list(set(df[cat_col].sum()))\n",
    "    df_cat=pd.DataFrame(0,index=df.index,columns=categories)\n",
    "    for cat in categories:\n",
    "        df_cat[cat]=df[cat_col].apply(lambda cat_list: int(cat in cat_list))\n",
    "    return pd.concat([df,df_cat],axis=1)"
   ]
  },
  {
   "cell_type": "code",
   "execution_count": 30,
   "metadata": {},
   "outputs": [],
   "source": [
    "df1=explode(df,'Genre',sep='/')"
   ]
  },
  {
   "cell_type": "code",
   "execution_count": 31,
   "metadata": {},
   "outputs": [
    {
     "data": {
      "text/plain": [
       "(868, 58)"
      ]
     },
     "execution_count": 31,
     "metadata": {},
     "output_type": "execute_result"
    }
   ],
   "source": [
    "df1.shape"
   ]
  },
  {
   "cell_type": "code",
   "execution_count": 32,
   "metadata": {},
   "outputs": [
    {
     "data": {
      "text/plain": [
       "Index(['Title', 'Domestic_Total_Gross', 'Distributor', 'Release_Date',\n",
       "       'Runtime', 'Production_Budget', 'MPAA_Rating', 'Genre', 'Day',\n",
       "       'day_of_year', 'Month', 'HorrorComedy', 'Sci-FiFantasy',\n",
       "       'Sci-FiThriller', 'Adventure', 'Sci-FiComedy', 'Horror', 'ActionDrama',\n",
       "       'HistoricalDrama', 'MusicDrama', 'Comedy', 'Fantasy', 'Foreign',\n",
       "       'WarDrama', 'Documentary', 'HorrorThriller', 'Unknown', 'Crime',\n",
       "       'ActionHorror', 'ActionThriller', 'Sci-FiAction', 'Action', 'Sci-Fi',\n",
       "       'RomanticThriller', 'FantasyComedy', 'Animation', 'CrimeThriller',\n",
       "       'CrimeComedy', 'ComedyThriller', 'SportsAction', 'SportsDrama',\n",
       "       'Concert', 'War', 'Musical', 'CrimeDrama', 'ActionComedy', 'Sports',\n",
       "       'RomanticComedy', 'Sci-FiHorror', 'FamilyComedy', 'FamilyAdventure',\n",
       "       'Thriller', 'Western', 'Family', 'Romance', 'Drama', 'Sci-FiAdventure',\n",
       "       'PeriodDrama'],\n",
       "      dtype='object')"
      ]
     },
     "execution_count": 32,
     "metadata": {},
     "output_type": "execute_result"
    }
   ],
   "source": [
    "df1.columns"
   ]
  },
  {
   "cell_type": "code",
   "execution_count": 33,
   "metadata": {},
   "outputs": [],
   "source": [
    "#df1[\"Comedy\"]=df1[\"Comedy\"]+df1[\"Sci-FiComedy\"]+df1[\"RomanticComedy\"]+df1[\"FantasyComedy\"]+df1[\"ActionComedy\"]+df1[\"SportsComedy\"]+df1[\"AdventureComedy\"]+df1[\"FamilyComedy\"]+df1[\"CrimeComedy\"]"
   ]
  },
  {
   "cell_type": "code",
   "execution_count": 34,
   "metadata": {},
   "outputs": [],
   "source": [
    "df1['Komedy']=df1[df1.columns[df1.columns.map(lambda x: 'comedy' in x.lower() )]].any(axis=1)"
   ]
  },
  {
   "cell_type": "code",
   "execution_count": 35,
   "metadata": {},
   "outputs": [],
   "source": [
    "comady_columns_delete=df1.columns[df1.columns.map(lambda x: 'comedy' in x.lower() )]"
   ]
  },
  {
   "cell_type": "code",
   "execution_count": 36,
   "metadata": {},
   "outputs": [
    {
     "data": {
      "text/plain": [
       "Index(['HorrorComedy', 'Sci-FiComedy', 'Comedy', 'FantasyComedy',\n",
       "       'CrimeComedy', 'ComedyThriller', 'ActionComedy', 'RomanticComedy',\n",
       "       'FamilyComedy'],\n",
       "      dtype='object')"
      ]
     },
     "execution_count": 36,
     "metadata": {},
     "output_type": "execute_result"
    }
   ],
   "source": [
    "comady_columns_delete"
   ]
  },
  {
   "cell_type": "code",
   "execution_count": 37,
   "metadata": {},
   "outputs": [
    {
     "data": {
      "text/plain": [
       "(868, 59)"
      ]
     },
     "execution_count": 37,
     "metadata": {},
     "output_type": "execute_result"
    }
   ],
   "source": [
    "df1.shape"
   ]
  },
  {
   "cell_type": "code",
   "execution_count": 38,
   "metadata": {},
   "outputs": [],
   "source": [
    "#df2.drop(columns=[lambda x: x in comady_columns.values],axis=1)\n",
    "#df2 = [x.drop(['Ticket','Cabin'], axis=1) for x in comady_columns]"
   ]
  },
  {
   "cell_type": "code",
   "execution_count": 39,
   "metadata": {},
   "outputs": [
    {
     "data": {
      "text/html": [
       "<div>\n",
       "<style scoped>\n",
       "    .dataframe tbody tr th:only-of-type {\n",
       "        vertical-align: middle;\n",
       "    }\n",
       "\n",
       "    .dataframe tbody tr th {\n",
       "        vertical-align: top;\n",
       "    }\n",
       "\n",
       "    .dataframe thead th {\n",
       "        text-align: right;\n",
       "    }\n",
       "</style>\n",
       "<table border=\"1\" class=\"dataframe\">\n",
       "  <thead>\n",
       "    <tr style=\"text-align: right;\">\n",
       "      <th></th>\n",
       "      <th>Title</th>\n",
       "      <th>Domestic_Total_Gross</th>\n",
       "      <th>Distributor</th>\n",
       "      <th>Release_Date</th>\n",
       "      <th>Runtime</th>\n",
       "      <th>Production_Budget</th>\n",
       "      <th>MPAA_Rating</th>\n",
       "      <th>Genre</th>\n",
       "      <th>Day</th>\n",
       "      <th>day_of_year</th>\n",
       "      <th>...</th>\n",
       "      <th>Sci-FiHorror</th>\n",
       "      <th>FamilyAdventure</th>\n",
       "      <th>Thriller</th>\n",
       "      <th>Western</th>\n",
       "      <th>Family</th>\n",
       "      <th>Romance</th>\n",
       "      <th>Drama</th>\n",
       "      <th>Sci-FiAdventure</th>\n",
       "      <th>PeriodDrama</th>\n",
       "      <th>Komedy</th>\n",
       "    </tr>\n",
       "  </thead>\n",
       "  <tbody>\n",
       "    <tr>\n",
       "      <td>0</td>\n",
       "      <td>Black Panther</td>\n",
       "      <td>700059566</td>\n",
       "      <td>Buena Vista</td>\n",
       "      <td>2018-02-16</td>\n",
       "      <td>140.0</td>\n",
       "      <td>NaN</td>\n",
       "      <td>PG-13</td>\n",
       "      <td>[Action, Adventure]</td>\n",
       "      <td>16</td>\n",
       "      <td>47</td>\n",
       "      <td>...</td>\n",
       "      <td>0</td>\n",
       "      <td>0</td>\n",
       "      <td>0</td>\n",
       "      <td>0</td>\n",
       "      <td>0</td>\n",
       "      <td>0</td>\n",
       "      <td>0</td>\n",
       "      <td>0</td>\n",
       "      <td>0</td>\n",
       "      <td>False</td>\n",
       "    </tr>\n",
       "    <tr>\n",
       "      <td>1</td>\n",
       "      <td>Avengers: Infinity War</td>\n",
       "      <td>678815482</td>\n",
       "      <td>Buena Vista</td>\n",
       "      <td>2018-04-27</td>\n",
       "      <td>156.0</td>\n",
       "      <td>NaN</td>\n",
       "      <td>PG-13</td>\n",
       "      <td>[Action, Adventure]</td>\n",
       "      <td>27</td>\n",
       "      <td>117</td>\n",
       "      <td>...</td>\n",
       "      <td>0</td>\n",
       "      <td>0</td>\n",
       "      <td>0</td>\n",
       "      <td>0</td>\n",
       "      <td>0</td>\n",
       "      <td>0</td>\n",
       "      <td>0</td>\n",
       "      <td>0</td>\n",
       "      <td>0</td>\n",
       "      <td>False</td>\n",
       "    </tr>\n",
       "    <tr>\n",
       "      <td>2</td>\n",
       "      <td>Incredibles 2</td>\n",
       "      <td>608581744</td>\n",
       "      <td>Buena Vista</td>\n",
       "      <td>2018-06-15</td>\n",
       "      <td>118.0</td>\n",
       "      <td>NaN</td>\n",
       "      <td>PG</td>\n",
       "      <td>[Animation]</td>\n",
       "      <td>15</td>\n",
       "      <td>166</td>\n",
       "      <td>...</td>\n",
       "      <td>0</td>\n",
       "      <td>0</td>\n",
       "      <td>0</td>\n",
       "      <td>0</td>\n",
       "      <td>0</td>\n",
       "      <td>0</td>\n",
       "      <td>0</td>\n",
       "      <td>0</td>\n",
       "      <td>0</td>\n",
       "      <td>False</td>\n",
       "    </tr>\n",
       "    <tr>\n",
       "      <td>3</td>\n",
       "      <td>Jurassic World: Fallen Kingdom</td>\n",
       "      <td>417719760</td>\n",
       "      <td>Universal</td>\n",
       "      <td>2018-06-22</td>\n",
       "      <td>128.0</td>\n",
       "      <td>170 000000</td>\n",
       "      <td>PG-13</td>\n",
       "      <td>[Action, Adventure]</td>\n",
       "      <td>22</td>\n",
       "      <td>173</td>\n",
       "      <td>...</td>\n",
       "      <td>0</td>\n",
       "      <td>0</td>\n",
       "      <td>0</td>\n",
       "      <td>0</td>\n",
       "      <td>0</td>\n",
       "      <td>0</td>\n",
       "      <td>0</td>\n",
       "      <td>0</td>\n",
       "      <td>0</td>\n",
       "      <td>False</td>\n",
       "    </tr>\n",
       "    <tr>\n",
       "      <td>4</td>\n",
       "      <td>Aquaman</td>\n",
       "      <td>335061807</td>\n",
       "      <td>Warner Bros.</td>\n",
       "      <td>2018-12-21</td>\n",
       "      <td>139.0</td>\n",
       "      <td>NaN</td>\n",
       "      <td>PG-13</td>\n",
       "      <td>[Action, Adventure]</td>\n",
       "      <td>21</td>\n",
       "      <td>355</td>\n",
       "      <td>...</td>\n",
       "      <td>0</td>\n",
       "      <td>0</td>\n",
       "      <td>0</td>\n",
       "      <td>0</td>\n",
       "      <td>0</td>\n",
       "      <td>0</td>\n",
       "      <td>0</td>\n",
       "      <td>0</td>\n",
       "      <td>0</td>\n",
       "      <td>False</td>\n",
       "    </tr>\n",
       "    <tr>\n",
       "      <td>...</td>\n",
       "      <td>...</td>\n",
       "      <td>...</td>\n",
       "      <td>...</td>\n",
       "      <td>...</td>\n",
       "      <td>...</td>\n",
       "      <td>...</td>\n",
       "      <td>...</td>\n",
       "      <td>...</td>\n",
       "      <td>...</td>\n",
       "      <td>...</td>\n",
       "      <td>...</td>\n",
       "      <td>...</td>\n",
       "      <td>...</td>\n",
       "      <td>...</td>\n",
       "      <td>...</td>\n",
       "      <td>...</td>\n",
       "      <td>...</td>\n",
       "      <td>...</td>\n",
       "      <td>...</td>\n",
       "      <td>...</td>\n",
       "      <td>...</td>\n",
       "    </tr>\n",
       "    <tr>\n",
       "      <td>863</td>\n",
       "      <td>Gangsterdam</td>\n",
       "      <td>954</td>\n",
       "      <td>Distrib Films</td>\n",
       "      <td>2018-09-19</td>\n",
       "      <td>100.0</td>\n",
       "      <td>NaN</td>\n",
       "      <td>Unrated</td>\n",
       "      <td>[ComedyThriller]</td>\n",
       "      <td>19</td>\n",
       "      <td>262</td>\n",
       "      <td>...</td>\n",
       "      <td>0</td>\n",
       "      <td>0</td>\n",
       "      <td>0</td>\n",
       "      <td>0</td>\n",
       "      <td>0</td>\n",
       "      <td>0</td>\n",
       "      <td>0</td>\n",
       "      <td>0</td>\n",
       "      <td>0</td>\n",
       "      <td>True</td>\n",
       "    </tr>\n",
       "    <tr>\n",
       "      <td>864</td>\n",
       "      <td>The Breadwinner</td>\n",
       "      <td>834</td>\n",
       "      <td>Gathr Films</td>\n",
       "      <td>2018-04-13</td>\n",
       "      <td>94.0</td>\n",
       "      <td>NaN</td>\n",
       "      <td>PG-13</td>\n",
       "      <td>[Animation]</td>\n",
       "      <td>13</td>\n",
       "      <td>103</td>\n",
       "      <td>...</td>\n",
       "      <td>0</td>\n",
       "      <td>0</td>\n",
       "      <td>0</td>\n",
       "      <td>0</td>\n",
       "      <td>0</td>\n",
       "      <td>0</td>\n",
       "      <td>0</td>\n",
       "      <td>0</td>\n",
       "      <td>0</td>\n",
       "      <td>False</td>\n",
       "    </tr>\n",
       "    <tr>\n",
       "      <td>865</td>\n",
       "      <td>TVTV: Video Revolutionaries</td>\n",
       "      <td>812</td>\n",
       "      <td>First Run</td>\n",
       "      <td>2018-10-19</td>\n",
       "      <td>82.0</td>\n",
       "      <td>NaN</td>\n",
       "      <td>Unrated</td>\n",
       "      <td>[Documentary]</td>\n",
       "      <td>19</td>\n",
       "      <td>292</td>\n",
       "      <td>...</td>\n",
       "      <td>0</td>\n",
       "      <td>0</td>\n",
       "      <td>0</td>\n",
       "      <td>0</td>\n",
       "      <td>0</td>\n",
       "      <td>0</td>\n",
       "      <td>0</td>\n",
       "      <td>0</td>\n",
       "      <td>0</td>\n",
       "      <td>False</td>\n",
       "    </tr>\n",
       "    <tr>\n",
       "      <td>866</td>\n",
       "      <td>Higher Power</td>\n",
       "      <td>528</td>\n",
       "      <td>Magnolia</td>\n",
       "      <td>2018-05-11</td>\n",
       "      <td>93.0</td>\n",
       "      <td>NaN</td>\n",
       "      <td>R</td>\n",
       "      <td>[Action]</td>\n",
       "      <td>11</td>\n",
       "      <td>131</td>\n",
       "      <td>...</td>\n",
       "      <td>0</td>\n",
       "      <td>0</td>\n",
       "      <td>0</td>\n",
       "      <td>0</td>\n",
       "      <td>0</td>\n",
       "      <td>0</td>\n",
       "      <td>0</td>\n",
       "      <td>0</td>\n",
       "      <td>0</td>\n",
       "      <td>False</td>\n",
       "    </tr>\n",
       "    <tr>\n",
       "      <td>867</td>\n",
       "      <td>The Legend of Hallowaiian</td>\n",
       "      <td>451</td>\n",
       "      <td>Viva Pictures Distribution</td>\n",
       "      <td>2018-10-19</td>\n",
       "      <td>82.0</td>\n",
       "      <td>NaN</td>\n",
       "      <td>PG</td>\n",
       "      <td>[Animation]</td>\n",
       "      <td>19</td>\n",
       "      <td>292</td>\n",
       "      <td>...</td>\n",
       "      <td>0</td>\n",
       "      <td>0</td>\n",
       "      <td>0</td>\n",
       "      <td>0</td>\n",
       "      <td>0</td>\n",
       "      <td>0</td>\n",
       "      <td>0</td>\n",
       "      <td>0</td>\n",
       "      <td>0</td>\n",
       "      <td>False</td>\n",
       "    </tr>\n",
       "  </tbody>\n",
       "</table>\n",
       "<p>868 rows × 50 columns</p>\n",
       "</div>"
      ],
      "text/plain": [
       "                              Title  Domestic_Total_Gross  \\\n",
       "0                     Black Panther             700059566   \n",
       "1            Avengers: Infinity War             678815482   \n",
       "2                     Incredibles 2             608581744   \n",
       "3    Jurassic World: Fallen Kingdom             417719760   \n",
       "4                           Aquaman             335061807   \n",
       "..                              ...                   ...   \n",
       "863                     Gangsterdam                   954   \n",
       "864                 The Breadwinner                   834   \n",
       "865     TVTV: Video Revolutionaries                   812   \n",
       "866                    Higher Power                   528   \n",
       "867       The Legend of Hallowaiian                   451   \n",
       "\n",
       "                    Distributor Release_Date  Runtime Production_Budget  \\\n",
       "0                   Buena Vista   2018-02-16    140.0               NaN   \n",
       "1                   Buena Vista   2018-04-27    156.0               NaN   \n",
       "2                   Buena Vista   2018-06-15    118.0               NaN   \n",
       "3                     Universal   2018-06-22    128.0        170 000000   \n",
       "4                  Warner Bros.   2018-12-21    139.0               NaN   \n",
       "..                          ...          ...      ...               ...   \n",
       "863               Distrib Films   2018-09-19    100.0               NaN   \n",
       "864                 Gathr Films   2018-04-13     94.0               NaN   \n",
       "865                   First Run   2018-10-19     82.0               NaN   \n",
       "866                    Magnolia   2018-05-11     93.0               NaN   \n",
       "867  Viva Pictures Distribution   2018-10-19     82.0               NaN   \n",
       "\n",
       "    MPAA_Rating                Genre Day  day_of_year  ... Sci-FiHorror  \\\n",
       "0         PG-13  [Action, Adventure]  16           47  ...            0   \n",
       "1         PG-13  [Action, Adventure]  27          117  ...            0   \n",
       "2            PG          [Animation]  15          166  ...            0   \n",
       "3         PG-13  [Action, Adventure]  22          173  ...            0   \n",
       "4         PG-13  [Action, Adventure]  21          355  ...            0   \n",
       "..          ...                  ...  ..          ...  ...          ...   \n",
       "863     Unrated     [ComedyThriller]  19          262  ...            0   \n",
       "864       PG-13          [Animation]  13          103  ...            0   \n",
       "865     Unrated        [Documentary]  19          292  ...            0   \n",
       "866           R             [Action]  11          131  ...            0   \n",
       "867          PG          [Animation]  19          292  ...            0   \n",
       "\n",
       "     FamilyAdventure  Thriller  Western  Family  Romance  Drama  \\\n",
       "0                  0         0        0       0        0      0   \n",
       "1                  0         0        0       0        0      0   \n",
       "2                  0         0        0       0        0      0   \n",
       "3                  0         0        0       0        0      0   \n",
       "4                  0         0        0       0        0      0   \n",
       "..               ...       ...      ...     ...      ...    ...   \n",
       "863                0         0        0       0        0      0   \n",
       "864                0         0        0       0        0      0   \n",
       "865                0         0        0       0        0      0   \n",
       "866                0         0        0       0        0      0   \n",
       "867                0         0        0       0        0      0   \n",
       "\n",
       "     Sci-FiAdventure  PeriodDrama  Komedy  \n",
       "0                  0            0   False  \n",
       "1                  0            0   False  \n",
       "2                  0            0   False  \n",
       "3                  0            0   False  \n",
       "4                  0            0   False  \n",
       "..               ...          ...     ...  \n",
       "863                0            0    True  \n",
       "864                0            0   False  \n",
       "865                0            0   False  \n",
       "866                0            0   False  \n",
       "867                0            0   False  \n",
       "\n",
       "[868 rows x 50 columns]"
      ]
     },
     "execution_count": 39,
     "metadata": {},
     "output_type": "execute_result"
    }
   ],
   "source": [
    "df1[df1.columns[df1.columns.map(lambda x: not('comedy' in x.lower())) ]]"
   ]
  },
  {
   "cell_type": "code",
   "execution_count": 40,
   "metadata": {},
   "outputs": [],
   "source": [
    "#np.cos(2*np.pi*150/364),np.sin(2*np.pi*150/364)"
   ]
  },
  {
   "cell_type": "code",
   "execution_count": 41,
   "metadata": {},
   "outputs": [
    {
     "data": {
      "text/plain": [
       "False    728\n",
       "True     140\n",
       "Name: Komedy, dtype: int64"
      ]
     },
     "execution_count": 41,
     "metadata": {},
     "output_type": "execute_result"
    }
   ],
   "source": [
    "df1.Komedy.value_counts()"
   ]
  },
  {
   "cell_type": "code",
   "execution_count": 42,
   "metadata": {},
   "outputs": [],
   "source": [
    "df1=df1.drop(columns=['CrimeComedy', 'Sci-FiComedy', 'FantasyComedy', 'ComedyThriller',\n",
    "       'Comedy', 'ActionComedy', 'RomanticComedy', 'FamilyComedy',\n",
    "       'HorrorComedy'])"
   ]
  },
  {
   "cell_type": "code",
   "execution_count": 43,
   "metadata": {},
   "outputs": [],
   "source": [
    "df1=df1.drop(columns=[\"Genre\"])"
   ]
  },
  {
   "cell_type": "code",
   "execution_count": 44,
   "metadata": {},
   "outputs": [
    {
     "data": {
      "text/plain": [
       "(868, 49)"
      ]
     },
     "execution_count": 44,
     "metadata": {},
     "output_type": "execute_result"
    }
   ],
   "source": [
    "df1.shape"
   ]
  },
  {
   "cell_type": "code",
   "execution_count": 45,
   "metadata": {},
   "outputs": [],
   "source": [
    "#df1[\"Drama\"]=df1[\"Drama\"]+df1[\"SportsDrama\"]+df1[\"WarDrama\"]+df1[\"ActionDrama\"]+df1[\"CrimeDrama\"]+df1[\"HistoricalDrama\"]"
   ]
  },
  {
   "cell_type": "code",
   "execution_count": 46,
   "metadata": {},
   "outputs": [],
   "source": [
    "df1['Dorama']=df1[df1.columns[df1.columns.map(lambda x: 'drama' in x.lower() )]].any(axis=1)"
   ]
  },
  {
   "cell_type": "code",
   "execution_count": 47,
   "metadata": {},
   "outputs": [
    {
     "data": {
      "text/plain": [
       "False    586\n",
       "True     282\n",
       "Name: Dorama, dtype: int64"
      ]
     },
     "execution_count": 47,
     "metadata": {},
     "output_type": "execute_result"
    }
   ],
   "source": [
    "df1.Dorama.value_counts()"
   ]
  },
  {
   "cell_type": "code",
   "execution_count": 48,
   "metadata": {},
   "outputs": [],
   "source": [
    "Dorama_columns_delete=df1.columns[df1.columns.map(lambda x: 'drama' in x.lower() )]"
   ]
  },
  {
   "cell_type": "code",
   "execution_count": 49,
   "metadata": {},
   "outputs": [
    {
     "data": {
      "text/plain": [
       "Index(['ActionDrama', 'HistoricalDrama', 'MusicDrama', 'WarDrama',\n",
       "       'SportsDrama', 'CrimeDrama', 'Drama', 'PeriodDrama'],\n",
       "      dtype='object')"
      ]
     },
     "execution_count": 49,
     "metadata": {},
     "output_type": "execute_result"
    }
   ],
   "source": [
    "Dorama_columns_delete"
   ]
  },
  {
   "cell_type": "code",
   "execution_count": 50,
   "metadata": {},
   "outputs": [],
   "source": [
    "df1=df1.drop(columns=['PeriodDrama', 'CrimeDrama', 'ActionDrama', 'Drama', 'HistoricalDrama',\n",
    "       'SportsDrama', 'MusicDrama', 'WarDrama'])"
   ]
  },
  {
   "cell_type": "code",
   "execution_count": 51,
   "metadata": {},
   "outputs": [
    {
     "data": {
      "text/plain": [
       "(868, 42)"
      ]
     },
     "execution_count": 51,
     "metadata": {},
     "output_type": "execute_result"
    }
   ],
   "source": [
    "df1.shape"
   ]
  },
  {
   "cell_type": "code",
   "execution_count": 52,
   "metadata": {},
   "outputs": [],
   "source": [
    "df1['DoKumentary']=df1[df1.columns[df1.columns.map(lambda x: 'documentary' in x.lower() )]].any(axis=1)"
   ]
  },
  {
   "cell_type": "code",
   "execution_count": 53,
   "metadata": {},
   "outputs": [
    {
     "data": {
      "text/plain": [
       "False    709\n",
       "True     159\n",
       "Name: DoKumentary, dtype: int64"
      ]
     },
     "execution_count": 53,
     "metadata": {},
     "output_type": "execute_result"
    }
   ],
   "source": [
    "df1.DoKumentary.value_counts()"
   ]
  },
  {
   "cell_type": "code",
   "execution_count": 54,
   "metadata": {},
   "outputs": [],
   "source": [
    "DoKumentary_columns_delete=df1.columns[df1.columns.map(lambda x: 'documentary' in x.lower() )]"
   ]
  },
  {
   "cell_type": "code",
   "execution_count": 55,
   "metadata": {},
   "outputs": [
    {
     "data": {
      "text/plain": [
       "Index(['Documentary'], dtype='object')"
      ]
     },
     "execution_count": 55,
     "metadata": {},
     "output_type": "execute_result"
    }
   ],
   "source": [
    "DoKumentary_columns_delete"
   ]
  },
  {
   "cell_type": "code",
   "execution_count": 56,
   "metadata": {},
   "outputs": [],
   "source": [
    "df1['Anoimation']=df1[df1.columns[df1.columns.map(lambda x: 'animation' in x.lower() )]].any(axis=1)"
   ]
  },
  {
   "cell_type": "code",
   "execution_count": 57,
   "metadata": {},
   "outputs": [],
   "source": [
    "Anoimation_columns_delete=df1.columns[df1.columns.map(lambda x: 'animation' in x.lower() )]"
   ]
  },
  {
   "cell_type": "code",
   "execution_count": 58,
   "metadata": {},
   "outputs": [
    {
     "data": {
      "text/plain": [
       "False    800\n",
       "True      68\n",
       "Name: Anoimation, dtype: int64"
      ]
     },
     "execution_count": 58,
     "metadata": {},
     "output_type": "execute_result"
    }
   ],
   "source": [
    "df1.Anoimation.value_counts()"
   ]
  },
  {
   "cell_type": "code",
   "execution_count": 59,
   "metadata": {},
   "outputs": [],
   "source": [
    "df1=df1.drop(columns=[\"Animation\",\"Documentary\"])"
   ]
  },
  {
   "cell_type": "code",
   "execution_count": 60,
   "metadata": {},
   "outputs": [
    {
     "data": {
      "text/plain": [
       "(868, 42)"
      ]
     },
     "execution_count": 60,
     "metadata": {},
     "output_type": "execute_result"
    }
   ],
   "source": [
    "df1.shape"
   ]
  },
  {
   "cell_type": "code",
   "execution_count": 61,
   "metadata": {},
   "outputs": [
    {
     "data": {
      "text/plain": [
       "Index(['Title', 'Domestic_Total_Gross', 'Distributor', 'Release_Date',\n",
       "       'Runtime', 'Production_Budget', 'MPAA_Rating', 'Day', 'day_of_year',\n",
       "       'Month', 'Sci-FiFantasy', 'Sci-FiThriller', 'Adventure', 'Horror',\n",
       "       'Fantasy', 'Foreign', 'HorrorThriller', 'Unknown', 'Crime',\n",
       "       'ActionHorror', 'ActionThriller', 'Sci-FiAction', 'Action', 'Sci-Fi',\n",
       "       'RomanticThriller', 'CrimeThriller', 'SportsAction', 'Concert', 'War',\n",
       "       'Musical', 'Sports', 'Sci-FiHorror', 'FamilyAdventure', 'Thriller',\n",
       "       'Western', 'Family', 'Romance', 'Sci-FiAdventure', 'Komedy', 'Dorama',\n",
       "       'DoKumentary', 'Anoimation'],\n",
       "      dtype='object')"
      ]
     },
     "execution_count": 61,
     "metadata": {},
     "output_type": "execute_result"
    }
   ],
   "source": [
    "df1.columns"
   ]
  },
  {
   "cell_type": "code",
   "execution_count": 62,
   "metadata": {},
   "outputs": [],
   "source": [
    "df1[\"Othors\"]=df1[df1.columns[df1.columns.map(lambda x: x.lower() not in ['title', 'domestic_total_gross','distributor', 'release_date','runtime', 'production_budget', 'mpaa_rating', 'month', 'day','day_of_year','komedy', 'dorama','dokumentary', 'anoimation']  ) ]].any(axis=1)"
   ]
  },
  {
   "cell_type": "code",
   "execution_count": 63,
   "metadata": {},
   "outputs": [
    {
     "data": {
      "text/plain": [
       "False    587\n",
       "True     281\n",
       "Name: Othors, dtype: int64"
      ]
     },
     "execution_count": 63,
     "metadata": {},
     "output_type": "execute_result"
    }
   ],
   "source": [
    "df1['Othors'].value_counts()"
   ]
  },
  {
   "cell_type": "code",
   "execution_count": 64,
   "metadata": {},
   "outputs": [
    {
     "data": {
      "text/plain": [
       "(868, 43)"
      ]
     },
     "execution_count": 64,
     "metadata": {},
     "output_type": "execute_result"
    }
   ],
   "source": [
    "df1.shape"
   ]
  },
  {
   "cell_type": "code",
   "execution_count": 65,
   "metadata": {},
   "outputs": [
    {
     "data": {
      "text/plain": [
       "Index(['Title', 'Domestic_Total_Gross', 'Distributor', 'Release_Date',\n",
       "       'Runtime', 'Production_Budget', 'MPAA_Rating', 'Day', 'day_of_year',\n",
       "       'Month', 'Sci-FiFantasy', 'Sci-FiThriller', 'Adventure', 'Horror',\n",
       "       'Fantasy', 'Foreign', 'HorrorThriller', 'Unknown', 'Crime',\n",
       "       'ActionHorror', 'ActionThriller', 'Sci-FiAction', 'Action', 'Sci-Fi',\n",
       "       'RomanticThriller', 'CrimeThriller', 'SportsAction', 'Concert', 'War',\n",
       "       'Musical', 'Sports', 'Sci-FiHorror', 'FamilyAdventure', 'Thriller',\n",
       "       'Western', 'Family', 'Romance', 'Sci-FiAdventure', 'Komedy', 'Dorama',\n",
       "       'DoKumentary', 'Anoimation', 'Othors'],\n",
       "      dtype='object')"
      ]
     },
     "execution_count": 65,
     "metadata": {},
     "output_type": "execute_result"
    }
   ],
   "source": [
    "df1.columns"
   ]
  },
  {
   "cell_type": "code",
   "execution_count": 66,
   "metadata": {},
   "outputs": [],
   "source": [
    "df1=df1.drop(columns=['Sports', 'Family', 'Sci-FiAction', 'Action', 'Foreign','FamilyAdventure', 'War', 'HorrorThriller', 'Western', 'SportsAction','Horror', 'ActionThriller', 'Sci-Fi', 'Crime', 'Adventure','Sci-FiThriller', 'Fantasy', 'Romance', 'Sci-FiHorror', 'Sci-FiFantasy','CrimeThriller', 'ActionHorror', 'Sci-FiAdventure', 'Thriller','Musical', 'Unknown', 'Concert', 'RomanticThriller'])"
   ]
  },
  {
   "cell_type": "code",
   "execution_count": 67,
   "metadata": {},
   "outputs": [
    {
     "data": {
      "text/plain": [
       "(868, 15)"
      ]
     },
     "execution_count": 67,
     "metadata": {},
     "output_type": "execute_result"
    }
   ],
   "source": [
    "df1.shape"
   ]
  },
  {
   "cell_type": "code",
   "execution_count": 68,
   "metadata": {},
   "outputs": [
    {
     "data": {
      "text/plain": [
       "Index(['Title', 'Domestic_Total_Gross', 'Distributor', 'Release_Date',\n",
       "       'Runtime', 'Production_Budget', 'MPAA_Rating', 'Day', 'day_of_year',\n",
       "       'Month', 'Komedy', 'Dorama', 'DoKumentary', 'Anoimation', 'Othors'],\n",
       "      dtype='object')"
      ]
     },
     "execution_count": 68,
     "metadata": {},
     "output_type": "execute_result"
    }
   ],
   "source": [
    "df1.columns"
   ]
  },
  {
   "cell_type": "code",
   "execution_count": 69,
   "metadata": {},
   "outputs": [],
   "source": [
    "df2=df1.copy()"
   ]
  },
  {
   "cell_type": "code",
   "execution_count": 70,
   "metadata": {},
   "outputs": [
    {
     "data": {
      "text/plain": [
       "(868, 15)"
      ]
     },
     "execution_count": 70,
     "metadata": {},
     "output_type": "execute_result"
    }
   ],
   "source": [
    "df2.shape"
   ]
  },
  {
   "cell_type": "code",
   "execution_count": 71,
   "metadata": {},
   "outputs": [
    {
     "data": {
      "text/plain": [
       "Index(['Title', 'Domestic_Total_Gross', 'Distributor', 'Release_Date',\n",
       "       'Runtime', 'Production_Budget', 'MPAA_Rating', 'Day', 'day_of_year',\n",
       "       'Month', 'Komedy', 'Dorama', 'DoKumentary', 'Anoimation', 'Othors'],\n",
       "      dtype='object')"
      ]
     },
     "execution_count": 71,
     "metadata": {},
     "output_type": "execute_result"
    }
   ],
   "source": [
    "df2.columns"
   ]
  },
  {
   "cell_type": "code",
   "execution_count": 72,
   "metadata": {},
   "outputs": [],
   "source": [
    "df2 = pd.get_dummies(df2, columns=['Komedy','Othors','Anoimation','DoKumentary','Dorama'],drop_first=True)"
   ]
  },
  {
   "cell_type": "code",
   "execution_count": 73,
   "metadata": {},
   "outputs": [
    {
     "data": {
      "text/plain": [
       "(868, 15)"
      ]
     },
     "execution_count": 73,
     "metadata": {},
     "output_type": "execute_result"
    }
   ],
   "source": [
    "df2.shape"
   ]
  },
  {
   "cell_type": "code",
   "execution_count": 74,
   "metadata": {},
   "outputs": [],
   "source": [
    "df2['MPAA_Rating'] = df2['MPAA_Rating'].astype('category')\n",
    "cat_columns = df2.select_dtypes(['category']).columns\n",
    "df2[cat_columns] = df2[cat_columns].apply(lambda x: x.cat.codes)"
   ]
  },
  {
   "cell_type": "code",
   "execution_count": 75,
   "metadata": {},
   "outputs": [
    {
     "data": {
      "text/plain": [
       "109.99306358381503"
      ]
     },
     "execution_count": 75,
     "metadata": {},
     "output_type": "execute_result"
    }
   ],
   "source": [
    "df2.Runtime.mean()"
   ]
  },
  {
   "cell_type": "code",
   "execution_count": 76,
   "metadata": {},
   "outputs": [],
   "source": [
    "df2[\"Runtime\"].fillna(109, inplace = True) "
   ]
  },
  {
   "cell_type": "code",
   "execution_count": 77,
   "metadata": {},
   "outputs": [
    {
     "data": {
      "text/plain": [
       "Title                     0\n",
       "Domestic_Total_Gross      0\n",
       "Distributor               0\n",
       "Release_Date              0\n",
       "Runtime                   0\n",
       "Production_Budget       772\n",
       "MPAA_Rating               0\n",
       "Day                       0\n",
       "day_of_year               0\n",
       "Month                     0\n",
       "Komedy_True               0\n",
       "Othors_True               0\n",
       "Anoimation_True           0\n",
       "DoKumentary_True          0\n",
       "Dorama_True               0\n",
       "dtype: int64"
      ]
     },
     "execution_count": 77,
     "metadata": {},
     "output_type": "execute_result"
    }
   ],
   "source": [
    "df2.isna().sum()"
   ]
  },
  {
   "cell_type": "code",
   "execution_count": 78,
   "metadata": {},
   "outputs": [
    {
     "data": {
      "text/plain": [
       "Index(['Title', 'Domestic_Total_Gross', 'Distributor', 'Release_Date',\n",
       "       'Runtime', 'Production_Budget', 'MPAA_Rating', 'Day', 'day_of_year',\n",
       "       'Month', 'Komedy_True', 'Othors_True', 'Anoimation_True',\n",
       "       'DoKumentary_True', 'Dorama_True'],\n",
       "      dtype='object')"
      ]
     },
     "execution_count": 78,
     "metadata": {},
     "output_type": "execute_result"
    }
   ],
   "source": [
    "df2.columns"
   ]
  },
  {
   "cell_type": "code",
   "execution_count": 79,
   "metadata": {},
   "outputs": [],
   "source": [
    "df3=df2.copy()"
   ]
  },
  {
   "cell_type": "code",
   "execution_count": 80,
   "metadata": {},
   "outputs": [],
   "source": [
    "df3=df3.drop(columns=[\"Title\",\"Distributor\",\"Production_Budget\"])"
   ]
  },
  {
   "cell_type": "code",
   "execution_count": 81,
   "metadata": {},
   "outputs": [
    {
     "data": {
      "text/plain": [
       "Index(['Domestic_Total_Gross', 'Release_Date', 'Runtime', 'MPAA_Rating', 'Day',\n",
       "       'day_of_year', 'Month', 'Komedy_True', 'Othors_True', 'Anoimation_True',\n",
       "       'DoKumentary_True', 'Dorama_True'],\n",
       "      dtype='object')"
      ]
     },
     "execution_count": 81,
     "metadata": {},
     "output_type": "execute_result"
    }
   ],
   "source": [
    "df3.columns"
   ]
  },
  {
   "cell_type": "code",
   "execution_count": 193,
   "metadata": {
    "scrolled": false
   },
   "outputs": [
    {
     "data": {
      "text/html": [
       "<div>\n",
       "<style scoped>\n",
       "    .dataframe tbody tr th:only-of-type {\n",
       "        vertical-align: middle;\n",
       "    }\n",
       "\n",
       "    .dataframe tbody tr th {\n",
       "        vertical-align: top;\n",
       "    }\n",
       "\n",
       "    .dataframe thead th {\n",
       "        text-align: right;\n",
       "    }\n",
       "</style>\n",
       "<table border=\"1\" class=\"dataframe\">\n",
       "  <thead>\n",
       "    <tr style=\"text-align: right;\">\n",
       "      <th></th>\n",
       "      <th>Domestic_Total_Gross</th>\n",
       "      <th>Release_Date</th>\n",
       "      <th>Runtime</th>\n",
       "      <th>MPAA_Rating</th>\n",
       "      <th>Day</th>\n",
       "      <th>day_of_year</th>\n",
       "      <th>Month</th>\n",
       "      <th>Komedy_True</th>\n",
       "      <th>Othors_True</th>\n",
       "      <th>Anoimation_True</th>\n",
       "      <th>DoKumentary_True</th>\n",
       "      <th>Dorama_True</th>\n",
       "    </tr>\n",
       "  </thead>\n",
       "  <tbody>\n",
       "    <tr>\n",
       "      <td>538</td>\n",
       "      <td>11.378251</td>\n",
       "      <td>2018-10-19</td>\n",
       "      <td>98.0</td>\n",
       "      <td>6</td>\n",
       "      <td>19</td>\n",
       "      <td>292</td>\n",
       "      <td>10</td>\n",
       "      <td>0</td>\n",
       "      <td>0</td>\n",
       "      <td>0</td>\n",
       "      <td>1</td>\n",
       "      <td>0</td>\n",
       "    </tr>\n",
       "    <tr>\n",
       "      <td>577</td>\n",
       "      <td>11.090172</td>\n",
       "      <td>2018-08-17</td>\n",
       "      <td>79.0</td>\n",
       "      <td>6</td>\n",
       "      <td>17</td>\n",
       "      <td>229</td>\n",
       "      <td>08</td>\n",
       "      <td>0</td>\n",
       "      <td>0</td>\n",
       "      <td>0</td>\n",
       "      <td>1</td>\n",
       "      <td>0</td>\n",
       "    </tr>\n",
       "    <tr>\n",
       "      <td>111</td>\n",
       "      <td>16.611331</td>\n",
       "      <td>2018-01-19</td>\n",
       "      <td>104.0</td>\n",
       "      <td>2</td>\n",
       "      <td>19</td>\n",
       "      <td>19</td>\n",
       "      <td>01</td>\n",
       "      <td>0</td>\n",
       "      <td>1</td>\n",
       "      <td>0</td>\n",
       "      <td>0</td>\n",
       "      <td>0</td>\n",
       "    </tr>\n",
       "    <tr>\n",
       "      <td>410</td>\n",
       "      <td>12.279764</td>\n",
       "      <td>2018-01-14</td>\n",
       "      <td>126.0</td>\n",
       "      <td>6</td>\n",
       "      <td>14</td>\n",
       "      <td>14</td>\n",
       "      <td>01</td>\n",
       "      <td>0</td>\n",
       "      <td>1</td>\n",
       "      <td>0</td>\n",
       "      <td>0</td>\n",
       "      <td>0</td>\n",
       "    </tr>\n",
       "    <tr>\n",
       "      <td>844</td>\n",
       "      <td>7.769379</td>\n",
       "      <td>2018-08-10</td>\n",
       "      <td>92.0</td>\n",
       "      <td>6</td>\n",
       "      <td>10</td>\n",
       "      <td>222</td>\n",
       "      <td>08</td>\n",
       "      <td>0</td>\n",
       "      <td>0</td>\n",
       "      <td>0</td>\n",
       "      <td>0</td>\n",
       "      <td>1</td>\n",
       "    </tr>\n",
       "    <tr>\n",
       "      <td>...</td>\n",
       "      <td>...</td>\n",
       "      <td>...</td>\n",
       "      <td>...</td>\n",
       "      <td>...</td>\n",
       "      <td>...</td>\n",
       "      <td>...</td>\n",
       "      <td>...</td>\n",
       "      <td>...</td>\n",
       "      <td>...</td>\n",
       "      <td>...</td>\n",
       "      <td>...</td>\n",
       "      <td>...</td>\n",
       "    </tr>\n",
       "    <tr>\n",
       "      <td>66</td>\n",
       "      <td>17.601277</td>\n",
       "      <td>2018-06-08</td>\n",
       "      <td>126.0</td>\n",
       "      <td>4</td>\n",
       "      <td>08</td>\n",
       "      <td>159</td>\n",
       "      <td>06</td>\n",
       "      <td>0</td>\n",
       "      <td>1</td>\n",
       "      <td>0</td>\n",
       "      <td>0</td>\n",
       "      <td>0</td>\n",
       "    </tr>\n",
       "    <tr>\n",
       "      <td>287</td>\n",
       "      <td>13.416350</td>\n",
       "      <td>2018-08-10</td>\n",
       "      <td>134.0</td>\n",
       "      <td>6</td>\n",
       "      <td>10</td>\n",
       "      <td>222</td>\n",
       "      <td>08</td>\n",
       "      <td>1</td>\n",
       "      <td>0</td>\n",
       "      <td>0</td>\n",
       "      <td>0</td>\n",
       "      <td>1</td>\n",
       "    </tr>\n",
       "    <tr>\n",
       "      <td>315</td>\n",
       "      <td>13.122565</td>\n",
       "      <td>2018-09-28</td>\n",
       "      <td>95.0</td>\n",
       "      <td>4</td>\n",
       "      <td>28</td>\n",
       "      <td>271</td>\n",
       "      <td>09</td>\n",
       "      <td>0</td>\n",
       "      <td>0</td>\n",
       "      <td>0</td>\n",
       "      <td>0</td>\n",
       "      <td>1</td>\n",
       "    </tr>\n",
       "    <tr>\n",
       "      <td>376</td>\n",
       "      <td>12.528862</td>\n",
       "      <td>2018-09-14</td>\n",
       "      <td>90.0</td>\n",
       "      <td>2</td>\n",
       "      <td>14</td>\n",
       "      <td>257</td>\n",
       "      <td>09</td>\n",
       "      <td>0</td>\n",
       "      <td>0</td>\n",
       "      <td>0</td>\n",
       "      <td>1</td>\n",
       "      <td>0</td>\n",
       "    </tr>\n",
       "    <tr>\n",
       "      <td>272</td>\n",
       "      <td>13.556649</td>\n",
       "      <td>2018-10-26</td>\n",
       "      <td>101.0</td>\n",
       "      <td>4</td>\n",
       "      <td>26</td>\n",
       "      <td>299</td>\n",
       "      <td>10</td>\n",
       "      <td>0</td>\n",
       "      <td>0</td>\n",
       "      <td>0</td>\n",
       "      <td>0</td>\n",
       "      <td>1</td>\n",
       "    </tr>\n",
       "  </tbody>\n",
       "</table>\n",
       "<p>868 rows × 12 columns</p>\n",
       "</div>"
      ],
      "text/plain": [
       "     Domestic_Total_Gross Release_Date  Runtime  MPAA_Rating Day  day_of_year  \\\n",
       "538             11.378251   2018-10-19     98.0            6  19          292   \n",
       "577             11.090172   2018-08-17     79.0            6  17          229   \n",
       "111             16.611331   2018-01-19    104.0            2  19           19   \n",
       "410             12.279764   2018-01-14    126.0            6  14           14   \n",
       "844              7.769379   2018-08-10     92.0            6  10          222   \n",
       "..                    ...          ...      ...          ...  ..          ...   \n",
       "66              17.601277   2018-06-08    126.0            4  08          159   \n",
       "287             13.416350   2018-08-10    134.0            6  10          222   \n",
       "315             13.122565   2018-09-28     95.0            4  28          271   \n",
       "376             12.528862   2018-09-14     90.0            2  14          257   \n",
       "272             13.556649   2018-10-26    101.0            4  26          299   \n",
       "\n",
       "    Month  Komedy_True  Othors_True  Anoimation_True  DoKumentary_True  \\\n",
       "538    10            0            0                0                 1   \n",
       "577    08            0            0                0                 1   \n",
       "111    01            0            1                0                 0   \n",
       "410    01            0            1                0                 0   \n",
       "844    08            0            0                0                 0   \n",
       "..    ...          ...          ...              ...               ...   \n",
       "66     06            0            1                0                 0   \n",
       "287    08            1            0                0                 0   \n",
       "315    09            0            0                0                 0   \n",
       "376    09            0            0                0                 1   \n",
       "272    10            0            0                0                 0   \n",
       "\n",
       "     Dorama_True  \n",
       "538            0  \n",
       "577            0  \n",
       "111            0  \n",
       "410            0  \n",
       "844            1  \n",
       "..           ...  \n",
       "66             0  \n",
       "287            1  \n",
       "315            1  \n",
       "376            0  \n",
       "272            1  \n",
       "\n",
       "[868 rows x 12 columns]"
      ]
     },
     "execution_count": 193,
     "metadata": {},
     "output_type": "execute_result"
    }
   ],
   "source": [
    "df3"
   ]
  },
  {
   "cell_type": "code",
   "execution_count": 214,
   "metadata": {},
   "outputs": [],
   "source": [
    "df3=shuffle(df3)"
   ]
  },
  {
   "cell_type": "code",
   "execution_count": null,
   "metadata": {},
   "outputs": [],
   "source": [
    "### "
   ]
  },
  {
   "cell_type": "code",
   "execution_count": 405,
   "metadata": {},
   "outputs": [],
   "source": [
    "df5=df3.copy()"
   ]
  },
  {
   "cell_type": "code",
   "execution_count": 406,
   "metadata": {},
   "outputs": [
    {
     "data": {
      "text/plain": [
       "Index(['Domestic_Total_Gross', 'Release_Date', 'Runtime', 'MPAA_Rating', 'Day',\n",
       "       'day_of_year', 'Month', 'Komedy_True', 'Othors_True', 'Anoimation_True',\n",
       "       'DoKumentary_True', 'Dorama_True'],\n",
       "      dtype='object')"
      ]
     },
     "execution_count": 406,
     "metadata": {},
     "output_type": "execute_result"
    }
   ],
   "source": [
    "df5.columns"
   ]
  },
  {
   "cell_type": "markdown",
   "metadata": {},
   "source": [
    "### Power Transformer (No good results especially with binary data)\n",
    "#### BoxCox is method to transform data especially with 1D data"
   ]
  },
  {
   "cell_type": "code",
   "execution_count": 620,
   "metadata": {
    "collapsed": true
   },
   "outputs": [
    {
     "ename": "ValueError",
     "evalue": "Data must be positive.",
     "output_type": "error",
     "traceback": [
      "\u001b[0;31m---------------------------------------------------------------------------\u001b[0m",
      "\u001b[0;31mValueError\u001b[0m                                Traceback (most recent call last)",
      "\u001b[0;32m<ipython-input-620-4bfe17102313>\u001b[0m in \u001b[0;36m<module>\u001b[0;34m\u001b[0m\n\u001b[0;32m----> 1\u001b[0;31m \u001b[0mdf5\u001b[0m\u001b[0;34m[\u001b[0m\u001b[0;34m'Runtime'\u001b[0m\u001b[0;34m]\u001b[0m\u001b[0;34m=\u001b[0m \u001b[0mboxcox\u001b[0m\u001b[0;34m(\u001b[0m\u001b[0mdf5\u001b[0m\u001b[0;34m[\u001b[0m\u001b[0;34m'Runtime'\u001b[0m\u001b[0;34m]\u001b[0m\u001b[0;34m)\u001b[0m\u001b[0;34m\u001b[0m\u001b[0;34m\u001b[0m\u001b[0m\n\u001b[0m\u001b[1;32m      2\u001b[0m \u001b[0;34m\u001b[0m\u001b[0m\n\u001b[1;32m      3\u001b[0m \u001b[0mpyplot\u001b[0m\u001b[0;34m.\u001b[0m\u001b[0mfigure\u001b[0m\u001b[0;34m(\u001b[0m\u001b[0;36m1\u001b[0m\u001b[0;34m)\u001b[0m\u001b[0;34m\u001b[0m\u001b[0;34m\u001b[0m\u001b[0m\n\u001b[1;32m      4\u001b[0m \u001b[0;34m\u001b[0m\u001b[0m\n\u001b[1;32m      5\u001b[0m \u001b[0;31m# histogram\u001b[0m\u001b[0;34m\u001b[0m\u001b[0;34m\u001b[0m\u001b[0;34m\u001b[0m\u001b[0m\n",
      "\u001b[0;32m~/anaconda3/envs/metis/lib/python3.7/site-packages/scipy/stats/morestats.py\u001b[0m in \u001b[0;36mboxcox\u001b[0;34m(x, lmbda, alpha)\u001b[0m\n\u001b[1;32m   1037\u001b[0m \u001b[0;34m\u001b[0m\u001b[0m\n\u001b[1;32m   1038\u001b[0m     \u001b[0;32mif\u001b[0m \u001b[0many\u001b[0m\u001b[0;34m(\u001b[0m\u001b[0mx\u001b[0m \u001b[0;34m<=\u001b[0m \u001b[0;36m0\u001b[0m\u001b[0;34m)\u001b[0m\u001b[0;34m:\u001b[0m\u001b[0;34m\u001b[0m\u001b[0;34m\u001b[0m\u001b[0m\n\u001b[0;32m-> 1039\u001b[0;31m         \u001b[0;32mraise\u001b[0m \u001b[0mValueError\u001b[0m\u001b[0;34m(\u001b[0m\u001b[0;34m\"Data must be positive.\"\u001b[0m\u001b[0;34m)\u001b[0m\u001b[0;34m\u001b[0m\u001b[0;34m\u001b[0m\u001b[0m\n\u001b[0m\u001b[1;32m   1040\u001b[0m \u001b[0;34m\u001b[0m\u001b[0m\n\u001b[1;32m   1041\u001b[0m     \u001b[0;32mif\u001b[0m \u001b[0mlmbda\u001b[0m \u001b[0;32mis\u001b[0m \u001b[0;32mnot\u001b[0m \u001b[0;32mNone\u001b[0m\u001b[0;34m:\u001b[0m  \u001b[0;31m# single transformation\u001b[0m\u001b[0;34m\u001b[0m\u001b[0;34m\u001b[0m\u001b[0m\n",
      "\u001b[0;31mValueError\u001b[0m: Data must be positive."
     ]
    }
   ],
   "source": [
    "df5['Runtime']= boxcox(df5['Runtime'])\n",
    "\n",
    "pyplot.figure(1)\n",
    "\n",
    "# histogram\n",
    "pyplot.subplot(212)\n",
    "pyplot.hist(df5['Runtime'])\n",
    "pyplot.show()"
   ]
  },
  {
   "cell_type": "code",
   "execution_count": 615,
   "metadata": {},
   "outputs": [
    {
     "data": {
      "image/png": "[encoded data removed]",
      "text/plain": [
       "<Figure size 432x288 with 1 Axes>"
      ]
     },
     "metadata": {
      "needs_background": "light"
     },
     "output_type": "display_data"
    }
   ],
   "source": [
    "pyplot.figure(1)\n",
    "pyplot.subplot(212)\n",
    "pyplot.hist(df3['Runtime'])\n",
    "pyplot.show()"
   ]
  },
  {
   "cell_type": "markdown",
   "metadata": {},
   "source": [
    "### Split data into training , validation , and testing"
   ]
  },
  {
   "cell_type": "code",
   "execution_count": 495,
   "metadata": {},
   "outputs": [],
   "source": [
    "x=df3.loc[:,['Runtime', 'MPAA_Rating', 'Day', 'day_of_year',\n",
    "       'Month', 'Komedy_True','Othors_True', 'Anoimation_True',\n",
    "       'DoKumentary_True', 'Dorama_True']]\n",
    "y=df3.loc[:,\"Domestic_Total_Gross\"]"
   ]
  },
  {
   "cell_type": "code",
   "execution_count": 496,
   "metadata": {},
   "outputs": [],
   "source": [
    "X_train_val, X_test, y_train_val, y_test = train_test_split(x, y, test_size=0.2,random_state=42)\n",
    "X_train, X_val, y_train, y_val = train_test_split(X_train_val, y_train_val, test_size=.25, random_state=43)"
   ]
  },
  {
   "cell_type": "code",
   "execution_count": 497,
   "metadata": {},
   "outputs": [
    {
     "data": {
      "text/plain": [
       "(520, 11)"
      ]
     },
     "execution_count": 497,
     "metadata": {},
     "output_type": "execute_result"
    }
   ],
   "source": [
    "X_Y_train=X_train.copy()\n",
    "X_Y_train[y_train.name]=y_train\n",
    "X_Y_train.isna().sum()\n",
    "X_Y_train.shape"
   ]
  },
  {
   "cell_type": "code",
   "execution_count": 498,
   "metadata": {},
   "outputs": [
    {
     "data": {
      "text/plain": [
       "(174, 11)"
      ]
     },
     "execution_count": 498,
     "metadata": {},
     "output_type": "execute_result"
    }
   ],
   "source": [
    "X_Y_val=X_val.copy()\n",
    "X_Y_val[y_val.name]=y_val\n",
    "X_Y_val.isna().sum()\n",
    "X_Y_val.shape"
   ]
  },
  {
   "cell_type": "code",
   "execution_count": 499,
   "metadata": {},
   "outputs": [
    {
     "data": {
      "text/plain": [
       "Runtime                 float64\n",
       "MPAA_Rating                int8\n",
       "Day                     float64\n",
       "day_of_year               int64\n",
       "Month                   float64\n",
       "Komedy_True               uint8\n",
       "Othors_True               uint8\n",
       "Anoimation_True           uint8\n",
       "DoKumentary_True          uint8\n",
       "Dorama_True               uint8\n",
       "Domestic_Total_Gross    float64\n",
       "dtype: object"
      ]
     },
     "execution_count": 499,
     "metadata": {},
     "output_type": "execute_result"
    }
   ],
   "source": [
    "sample=pd.concat([X_Y_train,X_Y_val],ignore_index=True)\n",
    "sample.isna().sum()\n",
    "\n",
    "sample.Month=sample[\"Month\"].astype(float)\n",
    "sample.Day=sample.Day.astype(float)\n",
    "\n",
    "sample.dtypes"
   ]
  },
  {
   "cell_type": "code",
   "execution_count": null,
   "metadata": {},
   "outputs": [],
   "source": []
  },
  {
   "cell_type": "markdown",
   "metadata": {},
   "source": [
    "### Exploratory Data Analysis (EDA)"
   ]
  },
  {
   "cell_type": "code",
   "execution_count": 500,
   "metadata": {},
   "outputs": [
    {
     "data": {
      "text/plain": [
       "(868, 12)"
      ]
     },
     "execution_count": 500,
     "metadata": {},
     "output_type": "execute_result"
    }
   ],
   "source": [
    "df3.shape"
   ]
  },
  {
   "cell_type": "code",
   "execution_count": 501,
   "metadata": {},
   "outputs": [
    {
     "data": {
      "text/html": [
       "<div>\n",
       "<style scoped>\n",
       "    .dataframe tbody tr th:only-of-type {\n",
       "        vertical-align: middle;\n",
       "    }\n",
       "\n",
       "    .dataframe tbody tr th {\n",
       "        vertical-align: top;\n",
       "    }\n",
       "\n",
       "    .dataframe thead th {\n",
       "        text-align: right;\n",
       "    }\n",
       "</style>\n",
       "<table border=\"1\" class=\"dataframe\">\n",
       "  <thead>\n",
       "    <tr style=\"text-align: right;\">\n",
       "      <th></th>\n",
       "      <th>Domestic_Total_Gross</th>\n",
       "      <th>Release_Date</th>\n",
       "      <th>Runtime</th>\n",
       "      <th>MPAA_Rating</th>\n",
       "      <th>Day</th>\n",
       "      <th>day_of_year</th>\n",
       "      <th>Month</th>\n",
       "      <th>Komedy_True</th>\n",
       "      <th>Othors_True</th>\n",
       "      <th>Anoimation_True</th>\n",
       "      <th>DoKumentary_True</th>\n",
       "      <th>Dorama_True</th>\n",
       "    </tr>\n",
       "  </thead>\n",
       "  <tbody>\n",
       "    <tr>\n",
       "      <td>815</td>\n",
       "      <td>8.452121</td>\n",
       "      <td>2018-07-13</td>\n",
       "      <td>100.0</td>\n",
       "      <td>6</td>\n",
       "      <td>13</td>\n",
       "      <td>194</td>\n",
       "      <td>07</td>\n",
       "      <td>0</td>\n",
       "      <td>0</td>\n",
       "      <td>0</td>\n",
       "      <td>1</td>\n",
       "      <td>0</td>\n",
       "    </tr>\n",
       "    <tr>\n",
       "      <td>396</td>\n",
       "      <td>12.368315</td>\n",
       "      <td>2018-03-08</td>\n",
       "      <td>210.0</td>\n",
       "      <td>6</td>\n",
       "      <td>08</td>\n",
       "      <td>67</td>\n",
       "      <td>03</td>\n",
       "      <td>0</td>\n",
       "      <td>1</td>\n",
       "      <td>0</td>\n",
       "      <td>0</td>\n",
       "      <td>0</td>\n",
       "    </tr>\n",
       "    <tr>\n",
       "      <td>95</td>\n",
       "      <td>17.019179</td>\n",
       "      <td>2018-12-25</td>\n",
       "      <td>120.0</td>\n",
       "      <td>3</td>\n",
       "      <td>25</td>\n",
       "      <td>359</td>\n",
       "      <td>12</td>\n",
       "      <td>0</td>\n",
       "      <td>0</td>\n",
       "      <td>0</td>\n",
       "      <td>0</td>\n",
       "      <td>1</td>\n",
       "    </tr>\n",
       "    <tr>\n",
       "      <td>120</td>\n",
       "      <td>16.326803</td>\n",
       "      <td>2018-06-29</td>\n",
       "      <td>96.0</td>\n",
       "      <td>3</td>\n",
       "      <td>29</td>\n",
       "      <td>180</td>\n",
       "      <td>06</td>\n",
       "      <td>0</td>\n",
       "      <td>0</td>\n",
       "      <td>0</td>\n",
       "      <td>1</td>\n",
       "      <td>0</td>\n",
       "    </tr>\n",
       "    <tr>\n",
       "      <td>687</td>\n",
       "      <td>10.001567</td>\n",
       "      <td>2018-03-23</td>\n",
       "      <td>113.0</td>\n",
       "      <td>1</td>\n",
       "      <td>23</td>\n",
       "      <td>82</td>\n",
       "      <td>03</td>\n",
       "      <td>0</td>\n",
       "      <td>0</td>\n",
       "      <td>0</td>\n",
       "      <td>0</td>\n",
       "      <td>1</td>\n",
       "    </tr>\n",
       "    <tr>\n",
       "      <td>...</td>\n",
       "      <td>...</td>\n",
       "      <td>...</td>\n",
       "      <td>...</td>\n",
       "      <td>...</td>\n",
       "      <td>...</td>\n",
       "      <td>...</td>\n",
       "      <td>...</td>\n",
       "      <td>...</td>\n",
       "      <td>...</td>\n",
       "      <td>...</td>\n",
       "      <td>...</td>\n",
       "      <td>...</td>\n",
       "    </tr>\n",
       "    <tr>\n",
       "      <td>306</td>\n",
       "      <td>13.209636</td>\n",
       "      <td>2018-11-30</td>\n",
       "      <td>92.0</td>\n",
       "      <td>4</td>\n",
       "      <td>30</td>\n",
       "      <td>334</td>\n",
       "      <td>11</td>\n",
       "      <td>0</td>\n",
       "      <td>1</td>\n",
       "      <td>0</td>\n",
       "      <td>0</td>\n",
       "      <td>0</td>\n",
       "    </tr>\n",
       "    <tr>\n",
       "      <td>802</td>\n",
       "      <td>8.615771</td>\n",
       "      <td>2018-02-23</td>\n",
       "      <td>77.0</td>\n",
       "      <td>6</td>\n",
       "      <td>23</td>\n",
       "      <td>54</td>\n",
       "      <td>02</td>\n",
       "      <td>1</td>\n",
       "      <td>0</td>\n",
       "      <td>0</td>\n",
       "      <td>0</td>\n",
       "      <td>0</td>\n",
       "    </tr>\n",
       "    <tr>\n",
       "      <td>664</td>\n",
       "      <td>10.240424</td>\n",
       "      <td>2018-04-13</td>\n",
       "      <td>106.0</td>\n",
       "      <td>6</td>\n",
       "      <td>13</td>\n",
       "      <td>103</td>\n",
       "      <td>04</td>\n",
       "      <td>0</td>\n",
       "      <td>0</td>\n",
       "      <td>0</td>\n",
       "      <td>0</td>\n",
       "      <td>1</td>\n",
       "    </tr>\n",
       "    <tr>\n",
       "      <td>145</td>\n",
       "      <td>15.626390</td>\n",
       "      <td>2018-03-09</td>\n",
       "      <td>103.0</td>\n",
       "      <td>3</td>\n",
       "      <td>09</td>\n",
       "      <td>68</td>\n",
       "      <td>03</td>\n",
       "      <td>0</td>\n",
       "      <td>1</td>\n",
       "      <td>0</td>\n",
       "      <td>0</td>\n",
       "      <td>0</td>\n",
       "    </tr>\n",
       "    <tr>\n",
       "      <td>845</td>\n",
       "      <td>7.724447</td>\n",
       "      <td>2018-04-13</td>\n",
       "      <td>88.0</td>\n",
       "      <td>6</td>\n",
       "      <td>13</td>\n",
       "      <td>103</td>\n",
       "      <td>04</td>\n",
       "      <td>0</td>\n",
       "      <td>1</td>\n",
       "      <td>0</td>\n",
       "      <td>0</td>\n",
       "      <td>0</td>\n",
       "    </tr>\n",
       "  </tbody>\n",
       "</table>\n",
       "<p>868 rows × 12 columns</p>\n",
       "</div>"
      ],
      "text/plain": [
       "     Domestic_Total_Gross Release_Date  Runtime  MPAA_Rating Day  day_of_year  \\\n",
       "815              8.452121   2018-07-13    100.0            6  13          194   \n",
       "396             12.368315   2018-03-08    210.0            6  08           67   \n",
       "95              17.019179   2018-12-25    120.0            3  25          359   \n",
       "120             16.326803   2018-06-29     96.0            3  29          180   \n",
       "687             10.001567   2018-03-23    113.0            1  23           82   \n",
       "..                    ...          ...      ...          ...  ..          ...   \n",
       "306             13.209636   2018-11-30     92.0            4  30          334   \n",
       "802              8.615771   2018-02-23     77.0            6  23           54   \n",
       "664             10.240424   2018-04-13    106.0            6  13          103   \n",
       "145             15.626390   2018-03-09    103.0            3  09           68   \n",
       "845              7.724447   2018-04-13     88.0            6  13          103   \n",
       "\n",
       "    Month  Komedy_True  Othors_True  Anoimation_True  DoKumentary_True  \\\n",
       "815    07            0            0                0                 1   \n",
       "396    03            0            1                0                 0   \n",
       "95     12            0            0                0                 0   \n",
       "120    06            0            0                0                 1   \n",
       "687    03            0            0                0                 0   \n",
       "..    ...          ...          ...              ...               ...   \n",
       "306    11            0            1                0                 0   \n",
       "802    02            1            0                0                 0   \n",
       "664    04            0            0                0                 0   \n",
       "145    03            0            1                0                 0   \n",
       "845    04            0            1                0                 0   \n",
       "\n",
       "     Dorama_True  \n",
       "815            0  \n",
       "396            0  \n",
       "95             1  \n",
       "120            0  \n",
       "687            1  \n",
       "..           ...  \n",
       "306            0  \n",
       "802            0  \n",
       "664            1  \n",
       "145            0  \n",
       "845            0  \n",
       "\n",
       "[868 rows x 12 columns]"
      ]
     },
     "execution_count": 501,
     "metadata": {},
     "output_type": "execute_result"
    }
   ],
   "source": [
    "df3.rename(columns=lambda x: x.strip())"
   ]
  },
  {
   "cell_type": "code",
   "execution_count": 502,
   "metadata": {},
   "outputs": [
    {
     "name": "stdout",
     "output_type": "stream",
     "text": [
      "<class 'pandas.core.frame.DataFrame'>\n",
      "Int64Index: 868 entries, 815 to 845\n",
      "Data columns (total 12 columns):\n",
      "Domestic_Total_Gross    868 non-null float64\n",
      "Release_Date            868 non-null datetime64[ns]\n",
      "Runtime                 868 non-null float64\n",
      "MPAA_Rating             868 non-null int8\n",
      "Day                     868 non-null object\n",
      "day_of_year             868 non-null int64\n",
      "Month                   868 non-null object\n",
      "Komedy_True             868 non-null uint8\n",
      "Othors_True             868 non-null uint8\n",
      "Anoimation_True         868 non-null uint8\n",
      "DoKumentary_True        868 non-null uint8\n",
      "Dorama_True             868 non-null uint8\n",
      "dtypes: datetime64[ns](1), float64(2), int64(1), int8(1), object(2), uint8(5)\n",
      "memory usage: 52.6+ KB\n"
     ]
    }
   ],
   "source": [
    "df3.info()"
   ]
  },
  {
   "cell_type": "code",
   "execution_count": 503,
   "metadata": {},
   "outputs": [
    {
     "data": {
      "text/plain": [
       "Domestic_Total_Gross    0\n",
       "Release_Date            0\n",
       "Runtime                 0\n",
       "MPAA_Rating             0\n",
       "Day                     0\n",
       "day_of_year             0\n",
       "Month                   0\n",
       "Komedy_True             0\n",
       "Othors_True             0\n",
       "Anoimation_True         0\n",
       "DoKumentary_True        0\n",
       "Dorama_True             0\n",
       "dtype: int64"
      ]
     },
     "execution_count": 503,
     "metadata": {},
     "output_type": "execute_result"
    }
   ],
   "source": [
    "df3.isna().sum()"
   ]
  },
  {
   "cell_type": "code",
   "execution_count": 679,
   "metadata": {},
   "outputs": [
    {
     "data": {
      "image/png": "[encoded data removed]",
      "text/plain": [
       "<Figure size 1425.6x950.4 with 132 Axes>"
      ]
     },
     "metadata": {
      "needs_background": "light"
     },
     "output_type": "display_data"
    }
   ],
   "source": [
    "sns.pairplot(sample, height=1.2, aspect=1.5)\n",
    "save_results_to = '/Users/Mony/Downloads/'\n",
    "plt.savefig(save_results_to+\"Pair Plot\", format='png', quality=95)"
   ]
  },
  {
   "cell_type": "code",
   "execution_count": 505,
   "metadata": {},
   "outputs": [
    {
     "data": {
      "text/html": [
       "<div>\n",
       "<style scoped>\n",
       "    .dataframe tbody tr th:only-of-type {\n",
       "        vertical-align: middle;\n",
       "    }\n",
       "\n",
       "    .dataframe tbody tr th {\n",
       "        vertical-align: top;\n",
       "    }\n",
       "\n",
       "    .dataframe thead th {\n",
       "        text-align: right;\n",
       "    }\n",
       "</style>\n",
       "<table border=\"1\" class=\"dataframe\">\n",
       "  <thead>\n",
       "    <tr style=\"text-align: right;\">\n",
       "      <th></th>\n",
       "      <th>Runtime</th>\n",
       "      <th>MPAA_Rating</th>\n",
       "      <th>Day</th>\n",
       "      <th>day_of_year</th>\n",
       "      <th>Month</th>\n",
       "      <th>Komedy_True</th>\n",
       "      <th>Othors_True</th>\n",
       "      <th>Anoimation_True</th>\n",
       "      <th>DoKumentary_True</th>\n",
       "      <th>Dorama_True</th>\n",
       "      <th>Domestic_Total_Gross</th>\n",
       "    </tr>\n",
       "  </thead>\n",
       "  <tbody>\n",
       "    <tr>\n",
       "      <td>Runtime</td>\n",
       "      <td>1.000000</td>\n",
       "      <td>0.068514</td>\n",
       "      <td>-0.000283</td>\n",
       "      <td>0.084720</td>\n",
       "      <td>0.084813</td>\n",
       "      <td>-0.099616</td>\n",
       "      <td>0.293064</td>\n",
       "      <td>-0.118117</td>\n",
       "      <td>-0.192651</td>\n",
       "      <td>-0.034170</td>\n",
       "      <td>0.138776</td>\n",
       "    </tr>\n",
       "    <tr>\n",
       "      <td>MPAA_Rating</td>\n",
       "      <td>0.068514</td>\n",
       "      <td>1.000000</td>\n",
       "      <td>0.020642</td>\n",
       "      <td>-0.063725</td>\n",
       "      <td>-0.065722</td>\n",
       "      <td>0.012281</td>\n",
       "      <td>-0.060265</td>\n",
       "      <td>-0.191493</td>\n",
       "      <td>0.216204</td>\n",
       "      <td>0.008329</td>\n",
       "      <td>-0.482530</td>\n",
       "    </tr>\n",
       "    <tr>\n",
       "      <td>Day</td>\n",
       "      <td>-0.000283</td>\n",
       "      <td>0.020642</td>\n",
       "      <td>1.000000</td>\n",
       "      <td>0.082111</td>\n",
       "      <td>-0.002502</td>\n",
       "      <td>0.052066</td>\n",
       "      <td>-0.033060</td>\n",
       "      <td>-0.005832</td>\n",
       "      <td>-0.002507</td>\n",
       "      <td>0.027095</td>\n",
       "      <td>0.031429</td>\n",
       "    </tr>\n",
       "    <tr>\n",
       "      <td>day_of_year</td>\n",
       "      <td>0.084720</td>\n",
       "      <td>-0.063725</td>\n",
       "      <td>0.082111</td>\n",
       "      <td>1.000000</td>\n",
       "      <td>0.996392</td>\n",
       "      <td>-0.071860</td>\n",
       "      <td>-0.018512</td>\n",
       "      <td>0.019813</td>\n",
       "      <td>0.000118</td>\n",
       "      <td>0.053646</td>\n",
       "      <td>0.068106</td>\n",
       "    </tr>\n",
       "    <tr>\n",
       "      <td>Month</td>\n",
       "      <td>0.084813</td>\n",
       "      <td>-0.065722</td>\n",
       "      <td>-0.002502</td>\n",
       "      <td>0.996392</td>\n",
       "      <td>1.000000</td>\n",
       "      <td>-0.076203</td>\n",
       "      <td>-0.015807</td>\n",
       "      <td>0.020089</td>\n",
       "      <td>0.000508</td>\n",
       "      <td>0.051658</td>\n",
       "      <td>0.065558</td>\n",
       "    </tr>\n",
       "    <tr>\n",
       "      <td>Komedy_True</td>\n",
       "      <td>-0.099616</td>\n",
       "      <td>0.012281</td>\n",
       "      <td>0.052066</td>\n",
       "      <td>-0.071860</td>\n",
       "      <td>-0.076203</td>\n",
       "      <td>1.000000</td>\n",
       "      <td>-0.309382</td>\n",
       "      <td>-0.134095</td>\n",
       "      <td>-0.211107</td>\n",
       "      <td>0.022482</td>\n",
       "      <td>-0.019277</td>\n",
       "    </tr>\n",
       "    <tr>\n",
       "      <td>Othors_True</td>\n",
       "      <td>0.293064</td>\n",
       "      <td>-0.060265</td>\n",
       "      <td>-0.033060</td>\n",
       "      <td>-0.018512</td>\n",
       "      <td>-0.015807</td>\n",
       "      <td>-0.309382</td>\n",
       "      <td>1.000000</td>\n",
       "      <td>-0.202511</td>\n",
       "      <td>-0.318815</td>\n",
       "      <td>-0.413976</td>\n",
       "      <td>0.237265</td>\n",
       "    </tr>\n",
       "    <tr>\n",
       "      <td>Anoimation_True</td>\n",
       "      <td>-0.118117</td>\n",
       "      <td>-0.191493</td>\n",
       "      <td>-0.005832</td>\n",
       "      <td>0.019813</td>\n",
       "      <td>0.020089</td>\n",
       "      <td>-0.134095</td>\n",
       "      <td>-0.202511</td>\n",
       "      <td>1.000000</td>\n",
       "      <td>-0.138184</td>\n",
       "      <td>-0.205205</td>\n",
       "      <td>0.030746</td>\n",
       "    </tr>\n",
       "    <tr>\n",
       "      <td>DoKumentary_True</td>\n",
       "      <td>-0.192651</td>\n",
       "      <td>0.216204</td>\n",
       "      <td>-0.002507</td>\n",
       "      <td>0.000118</td>\n",
       "      <td>0.000508</td>\n",
       "      <td>-0.211107</td>\n",
       "      <td>-0.318815</td>\n",
       "      <td>-0.138184</td>\n",
       "      <td>1.000000</td>\n",
       "      <td>-0.323056</td>\n",
       "      <td>-0.263563</td>\n",
       "    </tr>\n",
       "    <tr>\n",
       "      <td>Dorama_True</td>\n",
       "      <td>-0.034170</td>\n",
       "      <td>0.008329</td>\n",
       "      <td>0.027095</td>\n",
       "      <td>0.053646</td>\n",
       "      <td>0.051658</td>\n",
       "      <td>0.022482</td>\n",
       "      <td>-0.413976</td>\n",
       "      <td>-0.205205</td>\n",
       "      <td>-0.323056</td>\n",
       "      <td>1.000000</td>\n",
       "      <td>-0.084358</td>\n",
       "    </tr>\n",
       "    <tr>\n",
       "      <td>Domestic_Total_Gross</td>\n",
       "      <td>0.138776</td>\n",
       "      <td>-0.482530</td>\n",
       "      <td>0.031429</td>\n",
       "      <td>0.068106</td>\n",
       "      <td>0.065558</td>\n",
       "      <td>-0.019277</td>\n",
       "      <td>0.237265</td>\n",
       "      <td>0.030746</td>\n",
       "      <td>-0.263563</td>\n",
       "      <td>-0.084358</td>\n",
       "      <td>1.000000</td>\n",
       "    </tr>\n",
       "  </tbody>\n",
       "</table>\n",
       "</div>"
      ],
      "text/plain": [
       "                       Runtime  MPAA_Rating       Day  day_of_year     Month  \\\n",
       "Runtime               1.000000     0.068514 -0.000283     0.084720  0.084813   \n",
       "MPAA_Rating           0.068514     1.000000  0.020642    -0.063725 -0.065722   \n",
       "Day                  -0.000283     0.020642  1.000000     0.082111 -0.002502   \n",
       "day_of_year           0.084720    -0.063725  0.082111     1.000000  0.996392   \n",
       "Month                 0.084813    -0.065722 -0.002502     0.996392  1.000000   \n",
       "Komedy_True          -0.099616     0.012281  0.052066    -0.071860 -0.076203   \n",
       "Othors_True           0.293064    -0.060265 -0.033060    -0.018512 -0.015807   \n",
       "Anoimation_True      -0.118117    -0.191493 -0.005832     0.019813  0.020089   \n",
       "DoKumentary_True     -0.192651     0.216204 -0.002507     0.000118  0.000508   \n",
       "Dorama_True          -0.034170     0.008329  0.027095     0.053646  0.051658   \n",
       "Domestic_Total_Gross  0.138776    -0.482530  0.031429     0.068106  0.065558   \n",
       "\n",
       "                      Komedy_True  Othors_True  Anoimation_True  \\\n",
       "Runtime                 -0.099616     0.293064        -0.118117   \n",
       "MPAA_Rating              0.012281    -0.060265        -0.191493   \n",
       "Day                      0.052066    -0.033060        -0.005832   \n",
       "day_of_year             -0.071860    -0.018512         0.019813   \n",
       "Month                   -0.076203    -0.015807         0.020089   \n",
       "Komedy_True              1.000000    -0.309382        -0.134095   \n",
       "Othors_True             -0.309382     1.000000        -0.202511   \n",
       "Anoimation_True         -0.134095    -0.202511         1.000000   \n",
       "DoKumentary_True        -0.211107    -0.318815        -0.138184   \n",
       "Dorama_True              0.022482    -0.413976        -0.205205   \n",
       "Domestic_Total_Gross    -0.019277     0.237265         0.030746   \n",
       "\n",
       "                      DoKumentary_True  Dorama_True  Domestic_Total_Gross  \n",
       "Runtime                      -0.192651    -0.034170              0.138776  \n",
       "MPAA_Rating                   0.216204     0.008329             -0.482530  \n",
       "Day                          -0.002507     0.027095              0.031429  \n",
       "day_of_year                   0.000118     0.053646              0.068106  \n",
       "Month                         0.000508     0.051658              0.065558  \n",
       "Komedy_True                  -0.211107     0.022482             -0.019277  \n",
       "Othors_True                  -0.318815    -0.413976              0.237265  \n",
       "Anoimation_True              -0.138184    -0.205205              0.030746  \n",
       "DoKumentary_True              1.000000    -0.323056             -0.263563  \n",
       "Dorama_True                  -0.323056     1.000000             -0.084358  \n",
       "Domestic_Total_Gross         -0.263563    -0.084358              1.000000  "
      ]
     },
     "execution_count": 505,
     "metadata": {},
     "output_type": "execute_result"
    }
   ],
   "source": [
    "sample.corr()"
   ]
  },
  {
   "cell_type": "code",
   "execution_count": 678,
   "metadata": {},
   "outputs": [
    {
     "data": {
      "image/png": "[encoded data removed]",
      "text/plain": [
       "<Figure size 720x720 with 2 Axes>"
      ]
     },
     "metadata": {
      "needs_background": "light"
     },
     "output_type": "display_data"
    }
   ],
   "source": [
    "plt.figure(figsize=(10, 10))\n",
    "sns.heatmap(sample.corr(),cmap=\"seismic\",annot=True)\n",
    "plt.xlim(0.2,11.1)\n",
    "plt.ylim(11.1,0.2)\n",
    "save_results_to = '/Users/Mony/Downloads/'\n",
    "plt.savefig(save_results_to+\"Heat Map\", format='png', quality=95)"
   ]
  },
  {
   "cell_type": "code",
   "execution_count": 682,
   "metadata": {},
   "outputs": [
    {
     "data": {
      "image/png": "[encoded data removed]",
      "text/plain": [
       "<Figure size 432x288 with 1 Axes>"
      ]
     },
     "metadata": {
      "needs_background": "light"
     },
     "output_type": "display_data"
    }
   ],
   "source": [
    "sns.distplot(sample[\"Domestic_Total_Gross\"], kde=True)\n",
    "plt.title(\"Distribution of the Domestic Total Gross\")\n",
    "save_results_to = '/Users/Mony/Downloads/'\n",
    "plt.savefig(save_results_to+\"Domestic_Total_Gross\", format='png', quality=95)"
   ]
  },
  {
   "cell_type": "code",
   "execution_count": 684,
   "metadata": {},
   "outputs": [
    {
     "data": {
      "text/plain": [
       "815     8.452121\n",
       "396    12.368315\n",
       "95     17.019179\n",
       "120    16.326803\n",
       "687    10.001567\n",
       "         ...    \n",
       "306    13.209636\n",
       "802     8.615771\n",
       "664    10.240424\n",
       "145    15.626390\n",
       "845     7.724447\n",
       "Name: Domestic_Total_Gross, Length: 868, dtype: float64"
      ]
     },
     "execution_count": 684,
     "metadata": {},
     "output_type": "execute_result"
    }
   ],
   "source": [
    "df3.Domestic_Total_Gross"
   ]
  },
  {
   "cell_type": "code",
   "execution_count": 625,
   "metadata": {},
   "outputs": [],
   "source": [
    "df4=df3.copy()"
   ]
  },
  {
   "cell_type": "markdown",
   "metadata": {},
   "source": [
    "### Building a Baseline"
   ]
  },
  {
   "cell_type": "code",
   "execution_count": 509,
   "metadata": {},
   "outputs": [],
   "source": [
    "\n",
    "df4=df4.drop(columns=['Release_Date'])"
   ]
  },
  {
   "cell_type": "code",
   "execution_count": 510,
   "metadata": {},
   "outputs": [
    {
     "data": {
      "text/plain": [
       "Index(['Domestic_Total_Gross', 'Runtime', 'MPAA_Rating', 'Day', 'day_of_year',\n",
       "       'Month', 'Komedy_True', 'Othors_True', 'Anoimation_True',\n",
       "       'DoKumentary_True', 'Dorama_True'],\n",
       "      dtype='object')"
      ]
     },
     "execution_count": 510,
     "metadata": {},
     "output_type": "execute_result"
    }
   ],
   "source": [
    "df4.columns"
   ]
  },
  {
   "cell_type": "code",
   "execution_count": 511,
   "metadata": {},
   "outputs": [],
   "source": [
    "X_train=X_train.astype(float)\n",
    "y_train=y_train.astype(float)"
   ]
  },
  {
   "cell_type": "code",
   "execution_count": 530,
   "metadata": {},
   "outputs": [
    {
     "name": "stderr",
     "output_type": "stream",
     "text": [
      "/Users/Mony/anaconda3/envs/metis/lib/python3.7/site-packages/numpy/core/fromnumeric.py:2389: FutureWarning: Method .ptp is deprecated and will be removed in a future version. Use numpy.ptp instead.\n",
      "  return ptp(axis=axis, out=out, **kwargs)\n"
     ]
    },
    {
     "data": {
      "text/html": [
       "<table class=\"simpletable\">\n",
       "<caption>OLS Regression Results</caption>\n",
       "<tr>\n",
       "  <th>Dep. Variable:</th>    <td>Domestic_Total_Gross</td> <th>  R-squared:         </th> <td>   0.358</td>\n",
       "</tr>\n",
       "<tr>\n",
       "  <th>Model:</th>                     <td>OLS</td>         <th>  Adj. R-squared:    </th> <td>   0.345</td>\n",
       "</tr>\n",
       "<tr>\n",
       "  <th>Method:</th>               <td>Least Squares</td>    <th>  F-statistic:       </th> <td>   28.34</td>\n",
       "</tr>\n",
       "<tr>\n",
       "  <th>Date:</th>               <td>Wed, 18 Sep 2019</td>   <th>  Prob (F-statistic):</th> <td>3.63e-43</td>\n",
       "</tr>\n",
       "<tr>\n",
       "  <th>Time:</th>                   <td>10:16:18</td>       <th>  Log-Likelihood:    </th> <td> -1191.4</td>\n",
       "</tr>\n",
       "<tr>\n",
       "  <th>No. Observations:</th>        <td>   520</td>        <th>  AIC:               </th> <td>   2405.</td>\n",
       "</tr>\n",
       "<tr>\n",
       "  <th>Df Residuals:</th>            <td>   509</td>        <th>  BIC:               </th> <td>   2452.</td>\n",
       "</tr>\n",
       "<tr>\n",
       "  <th>Df Model:</th>                <td>    10</td>        <th>                     </th>     <td> </td>   \n",
       "</tr>\n",
       "<tr>\n",
       "  <th>Covariance Type:</th>        <td>nonrobust</td>      <th>                     </th>     <td> </td>   \n",
       "</tr>\n",
       "</table>\n",
       "<table class=\"simpletable\">\n",
       "<tr>\n",
       "          <td></td>            <th>coef</th>     <th>std err</th>      <th>t</th>      <th>P>|t|</th>  <th>[0.025</th>    <th>0.975]</th>  \n",
       "</tr>\n",
       "<tr>\n",
       "  <th>const</th>            <td>   16.1525</td> <td>    5.006</td> <td>    3.227</td> <td> 0.001</td> <td>    6.318</td> <td>   25.987</td>\n",
       "</tr>\n",
       "<tr>\n",
       "  <th>Runtime</th>          <td>    0.0125</td> <td>    0.004</td> <td>    3.049</td> <td> 0.002</td> <td>    0.004</td> <td>    0.021</td>\n",
       "</tr>\n",
       "<tr>\n",
       "  <th>MPAA_Rating</th>      <td>   -0.9863</td> <td>    0.073</td> <td>  -13.591</td> <td> 0.000</td> <td>   -1.129</td> <td>   -0.844</td>\n",
       "</tr>\n",
       "<tr>\n",
       "  <th>Day</th>              <td>    0.0372</td> <td>    0.159</td> <td>    0.234</td> <td> 0.815</td> <td>   -0.275</td> <td>    0.349</td>\n",
       "</tr>\n",
       "<tr>\n",
       "  <th>day_of_year</th>      <td>   -0.0236</td> <td>    0.159</td> <td>   -0.149</td> <td> 0.882</td> <td>   -0.335</td> <td>    0.288</td>\n",
       "</tr>\n",
       "<tr>\n",
       "  <th>Month</th>            <td>    0.7491</td> <td>    4.826</td> <td>    0.155</td> <td> 0.877</td> <td>   -8.733</td> <td>   10.231</td>\n",
       "</tr>\n",
       "<tr>\n",
       "  <th>Komedy_True</th>      <td>   -0.9823</td> <td>    0.433</td> <td>   -2.267</td> <td> 0.024</td> <td>   -1.834</td> <td>   -0.131</td>\n",
       "</tr>\n",
       "<tr>\n",
       "  <th>Othors_True</th>      <td>   -0.5187</td> <td>    0.503</td> <td>   -1.032</td> <td> 0.303</td> <td>   -1.506</td> <td>    0.469</td>\n",
       "</tr>\n",
       "<tr>\n",
       "  <th>Anoimation_True</th>  <td>   -2.1299</td> <td>    0.627</td> <td>   -3.395</td> <td> 0.001</td> <td>   -3.362</td> <td>   -0.897</td>\n",
       "</tr>\n",
       "<tr>\n",
       "  <th>DoKumentary_True</th> <td>   -2.2678</td> <td>    0.566</td> <td>   -4.007</td> <td> 0.000</td> <td>   -3.380</td> <td>   -1.156</td>\n",
       "</tr>\n",
       "<tr>\n",
       "  <th>Dorama_True</th>      <td>   -1.6523</td> <td>    0.443</td> <td>   -3.728</td> <td> 0.000</td> <td>   -2.523</td> <td>   -0.782</td>\n",
       "</tr>\n",
       "</table>\n",
       "<table class=\"simpletable\">\n",
       "<tr>\n",
       "  <th>Omnibus:</th>       <td> 6.328</td> <th>  Durbin-Watson:     </th> <td>   2.077</td>\n",
       "</tr>\n",
       "<tr>\n",
       "  <th>Prob(Omnibus):</th> <td> 0.042</td> <th>  Jarque-Bera (JB):  </th> <td>   6.439</td>\n",
       "</tr>\n",
       "<tr>\n",
       "  <th>Skew:</th>          <td>-0.257</td> <th>  Prob(JB):          </th> <td>  0.0400</td>\n",
       "</tr>\n",
       "<tr>\n",
       "  <th>Kurtosis:</th>      <td> 2.820</td> <th>  Cond. No.          </th> <td>1.55e+04</td>\n",
       "</tr>\n",
       "</table><br/><br/>Warnings:<br/>[1] Standard Errors assume that the covariance matrix of the errors is correctly specified.<br/>[2] The condition number is large, 1.55e+04. This might indicate that there are<br/>strong multicollinearity or other numerical problems."
      ],
      "text/plain": [
       "<class 'statsmodels.iolib.summary.Summary'>\n",
       "\"\"\"\n",
       "                             OLS Regression Results                             \n",
       "================================================================================\n",
       "Dep. Variable:     Domestic_Total_Gross   R-squared:                       0.358\n",
       "Model:                              OLS   Adj. R-squared:                  0.345\n",
       "Method:                   Least Squares   F-statistic:                     28.34\n",
       "Date:                  Wed, 18 Sep 2019   Prob (F-statistic):           3.63e-43\n",
       "Time:                          10:16:18   Log-Likelihood:                -1191.4\n",
       "No. Observations:                   520   AIC:                             2405.\n",
       "Df Residuals:                       509   BIC:                             2452.\n",
       "Df Model:                            10                                         \n",
       "Covariance Type:              nonrobust                                         \n",
       "====================================================================================\n",
       "                       coef    std err          t      P>|t|      [0.025      0.975]\n",
       "------------------------------------------------------------------------------------\n",
       "const               16.1525      5.006      3.227      0.001       6.318      25.987\n",
       "Runtime              0.0125      0.004      3.049      0.002       0.004       0.021\n",
       "MPAA_Rating         -0.9863      0.073    -13.591      0.000      -1.129      -0.844\n",
       "Day                  0.0372      0.159      0.234      0.815      -0.275       0.349\n",
       "day_of_year         -0.0236      0.159     -0.149      0.882      -0.335       0.288\n",
       "Month                0.7491      4.826      0.155      0.877      -8.733      10.231\n",
       "Komedy_True         -0.9823      0.433     -2.267      0.024      -1.834      -0.131\n",
       "Othors_True         -0.5187      0.503     -1.032      0.303      -1.506       0.469\n",
       "Anoimation_True     -2.1299      0.627     -3.395      0.001      -3.362      -0.897\n",
       "DoKumentary_True    -2.2678      0.566     -4.007      0.000      -3.380      -1.156\n",
       "Dorama_True         -1.6523      0.443     -3.728      0.000      -2.523      -0.782\n",
       "==============================================================================\n",
       "Omnibus:                        6.328   Durbin-Watson:                   2.077\n",
       "Prob(Omnibus):                  0.042   Jarque-Bera (JB):                6.439\n",
       "Skew:                          -0.257   Prob(JB):                       0.0400\n",
       "Kurtosis:                       2.820   Cond. No.                     1.55e+04\n",
       "==============================================================================\n",
       "\n",
       "Warnings:\n",
       "[1] Standard Errors assume that the covariance matrix of the errors is correctly specified.\n",
       "[2] The condition number is large, 1.55e+04. This might indicate that there are\n",
       "strong multicollinearity or other numerical problems.\n",
       "\"\"\""
      ]
     },
     "execution_count": 530,
     "metadata": {},
     "output_type": "execute_result"
    }
   ],
   "source": [
    "X_train = sm.add_constant(X_train)\n",
    "movie_model = sm.OLS(y_train, X_train, data=df4)\n",
    "\n",
    "results = movie_model.fit()\n",
    "\n",
    "\n",
    "results.summary()"
   ]
  },
  {
   "cell_type": "code",
   "execution_count": 676,
   "metadata": {},
   "outputs": [
    {
     "data": {
      "text/html": [
       "<table class=\"simpletable\">\n",
       "<caption>OLS Regression Results</caption>\n",
       "<tr>\n",
       "  <th>Dep. Variable:</th>    <td>Domestic_Total_Gross</td> <th>  R-squared:         </th> <td>   0.354</td>\n",
       "</tr>\n",
       "<tr>\n",
       "  <th>Model:</th>                     <td>OLS</td>         <th>  Adj. R-squared:    </th> <td>   0.346</td>\n",
       "</tr>\n",
       "<tr>\n",
       "  <th>Method:</th>               <td>Least Squares</td>    <th>  F-statistic:       </th> <td>   46.77</td>\n",
       "</tr>\n",
       "<tr>\n",
       "  <th>Date:</th>               <td>Wed, 18 Sep 2019</td>   <th>  Prob (F-statistic):</th> <td>1.05e-45</td>\n",
       "</tr>\n",
       "<tr>\n",
       "  <th>Time:</th>                   <td>16:51:26</td>       <th>  Log-Likelihood:    </th> <td> -1193.1</td>\n",
       "</tr>\n",
       "<tr>\n",
       "  <th>No. Observations:</th>        <td>   520</td>        <th>  AIC:               </th> <td>   2400.</td>\n",
       "</tr>\n",
       "<tr>\n",
       "  <th>Df Residuals:</th>            <td>   513</td>        <th>  BIC:               </th> <td>   2430.</td>\n",
       "</tr>\n",
       "<tr>\n",
       "  <th>Df Model:</th>                <td>     6</td>        <th>                     </th>     <td> </td>   \n",
       "</tr>\n",
       "<tr>\n",
       "  <th>Covariance Type:</th>        <td>nonrobust</td>      <th>                     </th>     <td> </td>   \n",
       "</tr>\n",
       "</table>\n",
       "<table class=\"simpletable\">\n",
       "<tr>\n",
       "          <td></td>            <th>coef</th>     <th>std err</th>      <th>t</th>      <th>P>|t|</th>  <th>[0.025</th>    <th>0.975]</th>  \n",
       "</tr>\n",
       "<tr>\n",
       "  <th>const</th>            <td>   16.7923</td> <td>    0.589</td> <td>   28.525</td> <td> 0.000</td> <td>   15.636</td> <td>   17.949</td>\n",
       "</tr>\n",
       "<tr>\n",
       "  <th>Runtime</th>          <td>    0.0132</td> <td>    0.004</td> <td>    3.247</td> <td> 0.001</td> <td>    0.005</td> <td>    0.021</td>\n",
       "</tr>\n",
       "<tr>\n",
       "  <th>MPAA_Rating</th>      <td>   -0.9915</td> <td>    0.072</td> <td>  -13.709</td> <td> 0.000</td> <td>   -1.134</td> <td>   -0.849</td>\n",
       "</tr>\n",
       "<tr>\n",
       "  <th>Komedy_True</th>      <td>   -0.6542</td> <td>    0.291</td> <td>   -2.251</td> <td> 0.025</td> <td>   -1.225</td> <td>   -0.083</td>\n",
       "</tr>\n",
       "<tr>\n",
       "  <th>Anoimation_True</th>  <td>   -1.6305</td> <td>    0.436</td> <td>   -3.740</td> <td> 0.000</td> <td>   -2.487</td> <td>   -0.774</td>\n",
       "</tr>\n",
       "<tr>\n",
       "  <th>DoKumentary_True</th> <td>   -1.7847</td> <td>    0.340</td> <td>   -5.255</td> <td> 0.000</td> <td>   -2.452</td> <td>   -1.118</td>\n",
       "</tr>\n",
       "<tr>\n",
       "  <th>Dorama_True</th>      <td>   -1.2415</td> <td>    0.248</td> <td>   -5.007</td> <td> 0.000</td> <td>   -1.729</td> <td>   -0.754</td>\n",
       "</tr>\n",
       "</table>\n",
       "<table class=\"simpletable\">\n",
       "<tr>\n",
       "  <th>Omnibus:</th>       <td> 6.313</td> <th>  Durbin-Watson:     </th> <td>   2.055</td>\n",
       "</tr>\n",
       "<tr>\n",
       "  <th>Prob(Omnibus):</th> <td> 0.043</td> <th>  Jarque-Bera (JB):  </th> <td>   6.408</td>\n",
       "</tr>\n",
       "<tr>\n",
       "  <th>Skew:</th>          <td>-0.255</td> <th>  Prob(JB):          </th> <td>  0.0406</td>\n",
       "</tr>\n",
       "<tr>\n",
       "  <th>Kurtosis:</th>      <td> 2.810</td> <th>  Cond. No.          </th> <td>    695.</td>\n",
       "</tr>\n",
       "</table><br/><br/>Warnings:<br/>[1] Standard Errors assume that the covariance matrix of the errors is correctly specified."
      ],
      "text/plain": [
       "<class 'statsmodels.iolib.summary.Summary'>\n",
       "\"\"\"\n",
       "                             OLS Regression Results                             \n",
       "================================================================================\n",
       "Dep. Variable:     Domestic_Total_Gross   R-squared:                       0.354\n",
       "Model:                              OLS   Adj. R-squared:                  0.346\n",
       "Method:                   Least Squares   F-statistic:                     46.77\n",
       "Date:                  Wed, 18 Sep 2019   Prob (F-statistic):           1.05e-45\n",
       "Time:                          16:51:26   Log-Likelihood:                -1193.1\n",
       "No. Observations:                   520   AIC:                             2400.\n",
       "Df Residuals:                       513   BIC:                             2430.\n",
       "Df Model:                             6                                         \n",
       "Covariance Type:              nonrobust                                         \n",
       "====================================================================================\n",
       "                       coef    std err          t      P>|t|      [0.025      0.975]\n",
       "------------------------------------------------------------------------------------\n",
       "const               16.7923      0.589     28.525      0.000      15.636      17.949\n",
       "Runtime              0.0132      0.004      3.247      0.001       0.005       0.021\n",
       "MPAA_Rating         -0.9915      0.072    -13.709      0.000      -1.134      -0.849\n",
       "Komedy_True         -0.6542      0.291     -2.251      0.025      -1.225      -0.083\n",
       "Anoimation_True     -1.6305      0.436     -3.740      0.000      -2.487      -0.774\n",
       "DoKumentary_True    -1.7847      0.340     -5.255      0.000      -2.452      -1.118\n",
       "Dorama_True         -1.2415      0.248     -5.007      0.000      -1.729      -0.754\n",
       "==============================================================================\n",
       "Omnibus:                        6.313   Durbin-Watson:                   2.055\n",
       "Prob(Omnibus):                  0.043   Jarque-Bera (JB):                6.408\n",
       "Skew:                          -0.255   Prob(JB):                       0.0406\n",
       "Kurtosis:                       2.810   Cond. No.                         695.\n",
       "==============================================================================\n",
       "\n",
       "Warnings:\n",
       "[1] Standard Errors assume that the covariance matrix of the errors is correctly specified.\n",
       "\"\"\""
      ]
     },
     "execution_count": 676,
     "metadata": {},
     "output_type": "execute_result"
    }
   ],
   "source": [
    "X_train=X_train.astype(float)\n",
    "y_train=y_train.astype(float)\n",
    "\n",
    "X_train_drop=X_train.copy()\n",
    "\n",
    "X_train_drop.drop(columns=[\"day_of_year\",\"Day\",\"Month\",\"Othors_True\"],inplace= True)\n",
    "\n",
    "\n",
    "movie_model1 = sm.OLS(y_train, X_train_drop, data=df4)\n",
    "\n",
    "results1 = movie_model1.fit()\n",
    "\n",
    "\n",
    "results1.summary()"
   ]
  },
  {
   "cell_type": "code",
   "execution_count": 680,
   "metadata": {},
   "outputs": [
    {
     "data": {
      "image/png": "[encoded data removed]",
      "text/plain": [
       "<Figure size 720x432 with 1 Axes>"
      ]
     },
     "metadata": {},
     "output_type": "display_data"
    }
   ],
   "source": [
    "# create residual plot\n",
    "df4['predict']=results.predict(X_train)\n",
    "df4['resid']= y_train-df4.predict\n",
    "with sns.axes_style('white'):\n",
    "    plot = df4.plot(\n",
    "        kind='scatter', x='predict', y='resid', alpha=0.5, figsize=(10,6))\n",
    "save_results_to = '/Users/Mony/Downloads/'\n",
    "plt.savefig(save_results_to+\"Domestic_Total_Gross\", format='png', quality=95)"
   ]
  },
  {
   "cell_type": "code",
   "execution_count": 631,
   "metadata": {},
   "outputs": [
    {
     "data": {
      "text/plain": [
       "815    10.370944\n",
       "396    13.302291\n",
       "95           NaN\n",
       "120          NaN\n",
       "687          NaN\n",
       "         ...    \n",
       "306          NaN\n",
       "802          NaN\n",
       "664    10.958202\n",
       "145          NaN\n",
       "845          NaN\n",
       "Name: predict, Length: 868, dtype: float64"
      ]
     },
     "execution_count": 631,
     "metadata": {},
     "output_type": "execute_result"
    }
   ],
   "source": [
    "df4.predict"
   ]
  },
  {
   "cell_type": "code",
   "execution_count": 633,
   "metadata": {},
   "outputs": [
    {
     "data": {
      "text/plain": [
       "<seaborn.axisgrid.JointGrid at 0x1c623f3410>"
      ]
     },
     "execution_count": 633,
     "metadata": {},
     "output_type": "execute_result"
    },
    {
     "data": {
      "image/png": "[encoded data removed]",
      "text/plain": [
       "<Figure size 432x432 with 3 Axes>"
      ]
     },
     "metadata": {
      "needs_background": "light"
     },
     "output_type": "display_data"
    }
   ],
   "source": [
    "sns.jointplot(kind=\"regplot\", x='predict', y='resid', data=df4)"
   ]
  },
  {
   "cell_type": "code",
   "execution_count": 514,
   "metadata": {},
   "outputs": [],
   "source": [
    "# sns.distplot(df3[\"Domestic_Total_Gross\"], kde=True)\n",
    "# plt.title(\"Distribution of Domestic_Total_Gross\")\n",
    "# #plt.savefig(\"Domestic_Total_Gross\", format='svg')"
   ]
  },
  {
   "cell_type": "code",
   "execution_count": 560,
   "metadata": {},
   "outputs": [
    {
     "data": {
      "text/plain": [
       "Index(['Runtime', 'MPAA_Rating', 'Day', 'day_of_year', 'Month', 'Komedy_True',\n",
       "       'Othors_True', 'Anoimation_True', 'DoKumentary_True', 'Dorama_True',\n",
       "       'Domestic_Total_Gross'],\n",
       "      dtype='object')"
      ]
     },
     "execution_count": 560,
     "metadata": {},
     "output_type": "execute_result"
    }
   ],
   "source": [
    "sample.columns"
   ]
  },
  {
   "cell_type": "code",
   "execution_count": 695,
   "metadata": {},
   "outputs": [],
   "source": [
    "X_train=X_train.drop(columns=[\"const\"])"
   ]
  },
  {
   "cell_type": "code",
   "execution_count": 723,
   "metadata": {},
   "outputs": [],
   "source": [
    "def linear_CV():\n",
    "    '''\n",
    "    For a set of features and target X, y, perform a 80/20 train/val split, \n",
    "    fit and validate a linear regression model, and report results\n",
    "    '''\n",
    "    \n",
    "    # perform train/val split\n",
    "    #X_train, X_val, y_train, y_val = train_test_split(X, y, test_size=0.2, random_state=42)\n",
    "    \n",
    "    # fit linear regression to training data\n",
    "    lr_model = LinearRegression()\n",
    "    scores = cross_val_score(lr_model, X_train_val, y_train_val, cv=5)\n",
    "    #lr_model.fit(X_train, y_train)\n",
    "    \n",
    "    # score fit model on validation data\n",
    "    #val_score = lr_model.score(X_val, y_val)\n",
    "    \n",
    "    # report results\n",
    "    #print('Validation R^2 score is:',val_score)\n",
    "\n",
    "    #for feature, coef in zip(X_train.columns, lr_model.coef_):\n",
    "     #   print(feature, ':', f'{coef:.2f}') \n",
    "    print(scores.mean()) \n",
    "    lr_model.fit(X_test, y_test)\n",
    "    test_score = lr_model.score(X_test, y_test)\n",
    "    print('test R^2 score is:',test_score)"
   ]
  },
  {
   "cell_type": "code",
   "execution_count": 724,
   "metadata": {},
   "outputs": [
    {
     "name": "stdout",
     "output_type": "stream",
     "text": [
      "0.28257985845170264\n",
      "test R^2 score is: 0.30383835662638836\n"
     ]
    }
   ],
   "source": [
    "linear_CV()"
   ]
  },
  {
   "cell_type": "markdown",
   "metadata": {},
   "source": [
    "### Regularization"
   ]
  },
  {
   "cell_type": "code",
   "execution_count": 732,
   "metadata": {},
   "outputs": [],
   "source": [
    "def regularization(X_train_val1, y_train_val1,X_test1,y_test1):\n",
    "\n",
    "    reg_elastic_net_CV = linear_model.ElasticNetCV(eps = None, n_alphas = None,max_iter=10000, \n",
    "                                                   alphas=10**(np.linspace(-2,3,30)), \n",
    "                                                   l1_ratio = [0.1, 0.5, 0.7, 0.9, 0.95, 0.99, 1.0],\n",
    "                                                   cv=5)\n",
    "    reg_elastic_net_CV.fit(X_train_val1, y_train_val1)\n",
    "    score = cross_val_score(reg_elastic_net_CV, X_train_val1, y_train_val1, cv=5).mean()\n",
    "    print('Validation R^2 score is:',score)\n",
    "\n",
    "    hps = [reg_elastic_net_CV.alpha_, reg_elastic_net_CV.l1_ratio_]\n",
    "\n",
    "    \n",
    "    #print(list(zip(X_train_val1.columns, reg_elastic_net_CV.coef_)))\n",
    "    test_model = linear_model.ElasticNet(alpha=hps[0], l1_ratio=hps[1])\n",
    "    test_model.fit(X_test1,y_test1)\n",
    "\n",
    "   \n",
    "    \n",
    "    test_score = test_model.score(X_test1,y_test1)\n",
    "    print('Test R^2 score is:', test_score)\n",
    "    \n",
    "    \n",
    "    predecate= reg_elastic_net_CV.predict(X_test1)\n",
    "    print(\"\\nSample of Actual vs Predicted data\")\n",
    "    df=pd.DataFrame({\"Actual\":y_test1, \"predicted\":predecate})\n",
    "    print(df.head())\n",
    "    \n",
    "    \n",
    "    for feature, coef in list(zip(X_train_val1.columns, reg_elastic_net_CV.coef_)):\n",
    "         print(feature, ':', f'{coef:.2f}') \n",
    "    \n",
    "    \n",
    " "
   ]
  },
  {
   "cell_type": "markdown",
   "metadata": {},
   "source": [
    "### Model 1 (Baseline with Regularization)"
   ]
  },
  {
   "cell_type": "code",
   "execution_count": 733,
   "metadata": {},
   "outputs": [
    {
     "name": "stdout",
     "output_type": "stream",
     "text": [
      "Validation R^2 score is: 0.2812546841198662\n",
      "Test R^2 score is: 0.2985945432012339\n",
      "\n",
      "Sample of Actual vs Predicted data\n",
      "        Actual  predicted\n",
      "73   17.524838  14.179007\n",
      "460  11.931524  12.264915\n",
      "841   7.895063  10.508818\n",
      "298  13.275230  13.351745\n",
      "673  10.165929  11.213372\n",
      "Runtime : 0.01\n",
      "MPAA_Rating : -0.88\n",
      "Day : 0.01\n",
      "day_of_year : 0.00\n",
      "Month : -0.00\n",
      "Komedy_True : -0.27\n",
      "Othors_True : 0.24\n",
      "Anoimation_True : -0.90\n",
      "DoKumentary_True : -1.40\n",
      "Dorama_True : -0.84\n"
     ]
    },
    {
     "name": "stderr",
     "output_type": "stream",
     "text": [
      "/Users/Mony/anaconda3/envs/metis/lib/python3.7/site-packages/sklearn/linear_model/coordinate_descent.py:475: ConvergenceWarning: Objective did not converge. You might want to increase the number of iterations. Duality gap: 465.31137471605047, tolerance: 0.14583996722228962\n",
      "  positive)\n"
     ]
    }
   ],
   "source": [
    "regularization(X_train_val, y_train_val,X_test,y_test)"
   ]
  },
  {
   "cell_type": "code",
   "execution_count": 734,
   "metadata": {},
   "outputs": [],
   "source": [
    "final=LinearRegression()\n",
    "final.coef_=np.array([ 9.32089274e-03, -8.75220885e-01,  1.48918717e-02,  9.66217552e-04,\n",
    "        -0.00000000e+00, -2.72625965e-01,  2.44174754e-01, -9.02083570e-01,\n",
    "        -1.39950649e+00, -8.37463147e-01])\n",
    "final.intercept_=15.750581659139684"
   ]
  },
  {
   "cell_type": "code",
   "execution_count": 735,
   "metadata": {},
   "outputs": [
    {
     "data": {
      "text/plain": [
       "0.2463184574498224"
      ]
     },
     "execution_count": 735,
     "metadata": {},
     "output_type": "execute_result"
    }
   ],
   "source": [
    "final.score(X_test,y_test)"
   ]
  },
  {
   "cell_type": "markdown",
   "metadata": {},
   "source": [
    "### Model 2"
   ]
  },
  {
   "cell_type": "code",
   "execution_count": 736,
   "metadata": {},
   "outputs": [
    {
     "name": "stdout",
     "output_type": "stream",
     "text": [
      "Validation R^2 score is: 0.2812546841198662\n",
      "Test R^2 score is: 0.2985945432012339\n",
      "\n",
      "Sample of Actual vs Predicted data\n",
      "        Actual  predicted\n",
      "73   17.524838  14.179007\n",
      "460  11.931524  12.264915\n",
      "841   7.895063  10.508818\n",
      "298  13.275230  13.351745\n",
      "673  10.165929  11.213372\n",
      "Runtime : 0.01\n",
      "MPAA_Rating : -0.88\n",
      "Day : 0.01\n",
      "day_of_year : 0.00\n",
      "Month : -0.00\n",
      "Komedy_True : -0.27\n",
      "Othors_True : 0.24\n",
      "Anoimation_True : -0.90\n",
      "DoKumentary_True : -1.40\n",
      "Dorama_True : -0.84\n"
     ]
    },
    {
     "name": "stderr",
     "output_type": "stream",
     "text": [
      "/Users/Mony/anaconda3/envs/metis/lib/python3.7/site-packages/sklearn/linear_model/coordinate_descent.py:475: ConvergenceWarning: Objective did not converge. You might want to increase the number of iterations. Duality gap: 465.31137471605047, tolerance: 0.14583996722228962\n",
      "  positive)\n"
     ]
    }
   ],
   "source": [
    "x2=X_train_val.copy()\n",
    "x2_test=X_test.copy()\n",
    "\n",
    "x2.drop(columns=[\"day_of_year\",\"Day\",\"Month\",\"Othors_True\"])\n",
    "x2_test.drop(columns=[\"day_of_year\",\"Day\",\"Month\",\"Othors_True\"])\n",
    "\n",
    "regularization(x2, y_train_val,x2_test,y_test)\n",
    "\n",
    "\n",
    "\n",
    "\n"
   ]
  },
  {
   "cell_type": "markdown",
   "metadata": {},
   "source": [
    "### Model 3"
   ]
  },
  {
   "cell_type": "markdown",
   "metadata": {},
   "source": [
    "### Model 4 "
   ]
  }
 ],
 "metadata": {
  "kernelspec": {
   "display_name": "Python [conda env:metis] *",
   "language": "python",
   "name": "conda-env-metis-py"
  },
  "language_info": {
   "codemirror_mode": {
    "name": "ipython",
    "version": 3
   },
   "file_extension": ".py",
   "mimetype": "text/x-python",
   "name": "python",
   "nbconvert_exporter": "python",
   "pygments_lexer": "ipython3",
   "version": "3.7.4"
  }
 },
 "nbformat": 4,
 "nbformat_minor": 2
}
